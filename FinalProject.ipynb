{
 "cells": [
  {
   "cell_type": "markdown",
   "metadata": {},
   "source": [
    "# <center><b>  ISM 6562 Big Data for Business</b> </center>\n",
    "\n",
    "### <center>  AIRLINE PERFORMANCE DATASET</center>\n",
    "\n",
    "<center>by: Chukwuebuka Ezema  and Shruti Sridharan</center>\n",
    "<br>\n",
    "<br>\n",
    "<br>"
   ]
  },
  {
   "cell_type": "markdown",
   "metadata": {},
   "source": [
    "### <b>INTRODUCTION</b>\n",
    "The U.S. Department of Transportation (DOT) Bureau of Transportation Statistics tracks the on-time performance of domestic flights. This data anlytics project aims to analyze the on-time flight departure performance and cancellations by major air carriers from Jan.2019 to Feb 2018\n",
    "The data was downloaded from the U.S. Department of Transportation's (DOT) Bureau of Transportation Statistics (BTS):https://www.transtats.bts.gov/DL_SelectFields.asp <br>\n",
    "<br>"
   ]
  },
  {
   "cell_type": "markdown",
   "metadata": {},
   "source": [
    "#### <b>Exploratory Analysis:</b>\n",
    "<b>Question 1</b><br>\n",
    "Carrier with most flight cancellations.<br> \n",
    "\n",
    "<b>Question 2</b><br>\n",
    "Consequently, which month and day of the week were flight cancellations most frequent?<br>\n",
    "\n",
    "<b>Question 3</b><br>\n",
    "What was the average delay time for flights origiating from Tampa (TPA)\n",
    "\n",
    "<b>Question 4</b><br>\n",
    "Which orgin city had the most delay?\n",
    "\n",
    "<b>Research Question 5</b><br>\n",
    "Origin city to Destination delay analysis\n",
    "\n",
    "<b>Research Question 6</b><br>\n",
    "Model\n"
   ]
  },
  {
   "cell_type": "markdown",
   "metadata": {},
   "source": [
    "### <center>  EXPLORATORY ANALYSIS </center>"
   ]
  },
  {
   "cell_type": "markdown",
   "metadata": {},
   "source": [
    "#### Carrier with most flight cancellations.<br> "
   ]
  },
  {
   "cell_type": "code",
   "execution_count": 1,
   "metadata": {
    "scrolled": true
   },
   "outputs": [
    {
     "data": {
      "text/html": [
       "\n",
       "        <div>\n",
       "            <p><b>SparkContext</b></p>\n",
       "\n",
       "            <p><a href=\"http://DESKTOP-CD9RMRA:4040\">Spark UI</a></p>\n",
       "\n",
       "            <dl>\n",
       "              <dt>Version</dt>\n",
       "                <dd><code>v2.4.2</code></dd>\n",
       "              <dt>Master</dt>\n",
       "                <dd><code>local[*]</code></dd>\n",
       "              <dt>AppName</dt>\n",
       "                <dd><code>pyspark-shell</code></dd>\n",
       "            </dl>\n",
       "        </div>\n",
       "        "
      ],
      "text/plain": [
       "<SparkContext master=local[*] appName=pyspark-shell>"
      ]
     },
     "execution_count": 1,
     "metadata": {},
     "output_type": "execute_result"
    }
   ],
   "source": [
    "import findspark\n",
    "findspark.init()\n",
    "import pyspark\n",
    "\n",
    "import pandas as pd\n",
    "from pyspark.sql import Row\n",
    "from pyspark.sql import functions\n",
    "from pyspark.sql import SQLContext\n",
    "from pyspark import SparkContext, SparkConf\n",
    "from pyspark.sql.types import *\n",
    "from pyspark.sql.functions import *\n",
    "import pyspark.sql.functions as func\n",
    "from pyspark.sql import SparkSession\n",
    "\n",
    "\n",
    "sc = SparkContext.getOrCreate(SparkConf().setMaster(\"local[*]\"))\n",
    "sqlContext = SQLContext(sc)\n",
    "sc"
   ]
  },
  {
   "cell_type": "markdown",
   "metadata": {},
   "source": []
  },
  {
   "cell_type": "code",
   "execution_count": 2,
   "metadata": {},
   "outputs": [],
   "source": [
    "#Using panda dataframe to import the table\n",
    "df = pd.read_csv(r'C:\\Users\\coe\\Desktop\\BigData\\1.csv',sep=',')"
   ]
  },
  {
   "cell_type": "code",
   "execution_count": 3,
   "metadata": {},
   "outputs": [],
   "source": [
    "#create a new copy of the panda dataframe\n",
    "dfa= df"
   ]
  },
  {
   "cell_type": "code",
   "execution_count": 4,
   "metadata": {},
   "outputs": [
    {
     "data": {
      "text/html": [
       "<div>\n",
       "<style scoped>\n",
       "    .dataframe tbody tr th:only-of-type {\n",
       "        vertical-align: middle;\n",
       "    }\n",
       "\n",
       "    .dataframe tbody tr th {\n",
       "        vertical-align: top;\n",
       "    }\n",
       "\n",
       "    .dataframe thead th {\n",
       "        text-align: right;\n",
       "    }\n",
       "</style>\n",
       "<table border=\"1\" class=\"dataframe\">\n",
       "  <thead>\n",
       "    <tr style=\"text-align: right;\">\n",
       "      <th></th>\n",
       "      <th>MONTH</th>\n",
       "      <th>DAY_OF_MONTH</th>\n",
       "      <th>DAY_OF_WEEK</th>\n",
       "      <th>MKT_UNIQUE_CARRIER</th>\n",
       "      <th>OP_CARRIER_FL_NUM</th>\n",
       "      <th>ORIGIN</th>\n",
       "      <th>ORIGIN_STATE_NM</th>\n",
       "      <th>DEST</th>\n",
       "      <th>DEST_STATE_NM</th>\n",
       "      <th>CRS_DEP_TIME</th>\n",
       "      <th>...</th>\n",
       "      <th>ACTUAL_ELAPSED_TIME</th>\n",
       "      <th>AIR_TIME</th>\n",
       "      <th>FLIGHTS</th>\n",
       "      <th>DISTANCE</th>\n",
       "      <th>CARRIER_DELAY</th>\n",
       "      <th>WEATHER_DELAY</th>\n",
       "      <th>NAS_DELAY</th>\n",
       "      <th>SECURITY_DELAY</th>\n",
       "      <th>LATE_AIRCRAFT_DELAY</th>\n",
       "      <th>Unnamed: 27</th>\n",
       "    </tr>\n",
       "  </thead>\n",
       "  <tbody>\n",
       "    <tr>\n",
       "      <th>0</th>\n",
       "      <td>1</td>\n",
       "      <td>10</td>\n",
       "      <td>4</td>\n",
       "      <td>DL</td>\n",
       "      <td>3837</td>\n",
       "      <td>DTW</td>\n",
       "      <td>Michigan</td>\n",
       "      <td>CMH</td>\n",
       "      <td>Ohio</td>\n",
       "      <td>820</td>\n",
       "      <td>...</td>\n",
       "      <td>89.0</td>\n",
       "      <td>38.0</td>\n",
       "      <td>1.0</td>\n",
       "      <td>155.0</td>\n",
       "      <td>NaN</td>\n",
       "      <td>NaN</td>\n",
       "      <td>NaN</td>\n",
       "      <td>NaN</td>\n",
       "      <td>NaN</td>\n",
       "      <td>NaN</td>\n",
       "    </tr>\n",
       "    <tr>\n",
       "      <th>1</th>\n",
       "      <td>1</td>\n",
       "      <td>10</td>\n",
       "      <td>4</td>\n",
       "      <td>DL</td>\n",
       "      <td>3838</td>\n",
       "      <td>IAD</td>\n",
       "      <td>Virginia</td>\n",
       "      <td>MSP</td>\n",
       "      <td>Minnesota</td>\n",
       "      <td>1658</td>\n",
       "      <td>...</td>\n",
       "      <td>170.0</td>\n",
       "      <td>148.0</td>\n",
       "      <td>1.0</td>\n",
       "      <td>908.0</td>\n",
       "      <td>NaN</td>\n",
       "      <td>NaN</td>\n",
       "      <td>NaN</td>\n",
       "      <td>NaN</td>\n",
       "      <td>NaN</td>\n",
       "      <td>NaN</td>\n",
       "    </tr>\n",
       "    <tr>\n",
       "      <th>2</th>\n",
       "      <td>1</td>\n",
       "      <td>10</td>\n",
       "      <td>4</td>\n",
       "      <td>DL</td>\n",
       "      <td>3838</td>\n",
       "      <td>MSP</td>\n",
       "      <td>Minnesota</td>\n",
       "      <td>IAD</td>\n",
       "      <td>Virginia</td>\n",
       "      <td>1245</td>\n",
       "      <td>...</td>\n",
       "      <td>132.0</td>\n",
       "      <td>114.0</td>\n",
       "      <td>1.0</td>\n",
       "      <td>908.0</td>\n",
       "      <td>NaN</td>\n",
       "      <td>NaN</td>\n",
       "      <td>NaN</td>\n",
       "      <td>NaN</td>\n",
       "      <td>NaN</td>\n",
       "      <td>NaN</td>\n",
       "    </tr>\n",
       "    <tr>\n",
       "      <th>3</th>\n",
       "      <td>1</td>\n",
       "      <td>10</td>\n",
       "      <td>4</td>\n",
       "      <td>DL</td>\n",
       "      <td>3839</td>\n",
       "      <td>BHM</td>\n",
       "      <td>Alabama</td>\n",
       "      <td>LGA</td>\n",
       "      <td>New York</td>\n",
       "      <td>601</td>\n",
       "      <td>...</td>\n",
       "      <td>149.0</td>\n",
       "      <td>131.0</td>\n",
       "      <td>1.0</td>\n",
       "      <td>866.0</td>\n",
       "      <td>NaN</td>\n",
       "      <td>NaN</td>\n",
       "      <td>NaN</td>\n",
       "      <td>NaN</td>\n",
       "      <td>NaN</td>\n",
       "      <td>NaN</td>\n",
       "    </tr>\n",
       "    <tr>\n",
       "      <th>4</th>\n",
       "      <td>1</td>\n",
       "      <td>10</td>\n",
       "      <td>4</td>\n",
       "      <td>DL</td>\n",
       "      <td>3841</td>\n",
       "      <td>MSP</td>\n",
       "      <td>Minnesota</td>\n",
       "      <td>IAD</td>\n",
       "      <td>Virginia</td>\n",
       "      <td>2025</td>\n",
       "      <td>...</td>\n",
       "      <td>134.0</td>\n",
       "      <td>107.0</td>\n",
       "      <td>1.0</td>\n",
       "      <td>908.0</td>\n",
       "      <td>NaN</td>\n",
       "      <td>NaN</td>\n",
       "      <td>NaN</td>\n",
       "      <td>NaN</td>\n",
       "      <td>NaN</td>\n",
       "      <td>NaN</td>\n",
       "    </tr>\n",
       "  </tbody>\n",
       "</table>\n",
       "<p>5 rows × 28 columns</p>\n",
       "</div>"
      ],
      "text/plain": [
       "   MONTH  DAY_OF_MONTH  DAY_OF_WEEK MKT_UNIQUE_CARRIER  OP_CARRIER_FL_NUM  \\\n",
       "0      1            10            4                 DL               3837   \n",
       "1      1            10            4                 DL               3838   \n",
       "2      1            10            4                 DL               3838   \n",
       "3      1            10            4                 DL               3839   \n",
       "4      1            10            4                 DL               3841   \n",
       "\n",
       "  ORIGIN ORIGIN_STATE_NM DEST DEST_STATE_NM  CRS_DEP_TIME  ...  \\\n",
       "0    DTW        Michigan  CMH          Ohio           820  ...   \n",
       "1    IAD        Virginia  MSP     Minnesota          1658  ...   \n",
       "2    MSP       Minnesota  IAD      Virginia          1245  ...   \n",
       "3    BHM         Alabama  LGA      New York           601  ...   \n",
       "4    MSP       Minnesota  IAD      Virginia          2025  ...   \n",
       "\n",
       "   ACTUAL_ELAPSED_TIME  AIR_TIME  FLIGHTS  DISTANCE  CARRIER_DELAY  \\\n",
       "0                 89.0      38.0      1.0     155.0            NaN   \n",
       "1                170.0     148.0      1.0     908.0            NaN   \n",
       "2                132.0     114.0      1.0     908.0            NaN   \n",
       "3                149.0     131.0      1.0     866.0            NaN   \n",
       "4                134.0     107.0      1.0     908.0            NaN   \n",
       "\n",
       "  WEATHER_DELAY  NAS_DELAY  SECURITY_DELAY  LATE_AIRCRAFT_DELAY  Unnamed: 27  \n",
       "0           NaN        NaN             NaN                  NaN          NaN  \n",
       "1           NaN        NaN             NaN                  NaN          NaN  \n",
       "2           NaN        NaN             NaN                  NaN          NaN  \n",
       "3           NaN        NaN             NaN                  NaN          NaN  \n",
       "4           NaN        NaN             NaN                  NaN          NaN  \n",
       "\n",
       "[5 rows x 28 columns]"
      ]
     },
     "execution_count": 4,
     "metadata": {},
     "output_type": "execute_result"
    }
   ],
   "source": [
    "dfa.head()"
   ]
  },
  {
   "cell_type": "code",
   "execution_count": 5,
   "metadata": {},
   "outputs": [
    {
     "data": {
      "text/html": [
       "<div>\n",
       "<style scoped>\n",
       "    .dataframe tbody tr th:only-of-type {\n",
       "        vertical-align: middle;\n",
       "    }\n",
       "\n",
       "    .dataframe tbody tr th {\n",
       "        vertical-align: top;\n",
       "    }\n",
       "\n",
       "    .dataframe thead th {\n",
       "        text-align: right;\n",
       "    }\n",
       "</style>\n",
       "<table border=\"1\" class=\"dataframe\">\n",
       "  <thead>\n",
       "    <tr style=\"text-align: right;\">\n",
       "      <th></th>\n",
       "      <th>MONTH</th>\n",
       "      <th>DAY_OF_MONTH</th>\n",
       "      <th>DAY_OF_WEEK</th>\n",
       "      <th>MKT_UNIQUE_CARRIER</th>\n",
       "      <th>OP_CARRIER_FL_NUM</th>\n",
       "      <th>ORIGIN</th>\n",
       "      <th>ORIGIN_STATE_NM</th>\n",
       "      <th>DEST</th>\n",
       "      <th>DEST_STATE_NM</th>\n",
       "      <th>CRS_DEP_TIME</th>\n",
       "      <th>...</th>\n",
       "      <th>ACTUAL_ELAPSED_TIME</th>\n",
       "      <th>AIR_TIME</th>\n",
       "      <th>FLIGHTS</th>\n",
       "      <th>DISTANCE</th>\n",
       "      <th>CARRIER_DELAY</th>\n",
       "      <th>WEATHER_DELAY</th>\n",
       "      <th>NAS_DELAY</th>\n",
       "      <th>SECURITY_DELAY</th>\n",
       "      <th>LATE_AIRCRAFT_DELAY</th>\n",
       "      <th>Unnamed: 27</th>\n",
       "    </tr>\n",
       "  </thead>\n",
       "  <tbody>\n",
       "    <tr>\n",
       "      <th>638644</th>\n",
       "      <td>1</td>\n",
       "      <td>3</td>\n",
       "      <td>4</td>\n",
       "      <td>UA</td>\n",
       "      <td>4738</td>\n",
       "      <td>ORD</td>\n",
       "      <td>Illinois</td>\n",
       "      <td>LAN</td>\n",
       "      <td>Michigan</td>\n",
       "      <td>1535</td>\n",
       "      <td>...</td>\n",
       "      <td>60.0</td>\n",
       "      <td>34.0</td>\n",
       "      <td>1.0</td>\n",
       "      <td>179.0</td>\n",
       "      <td>NaN</td>\n",
       "      <td>NaN</td>\n",
       "      <td>NaN</td>\n",
       "      <td>NaN</td>\n",
       "      <td>NaN</td>\n",
       "      <td>NaN</td>\n",
       "    </tr>\n",
       "    <tr>\n",
       "      <th>638645</th>\n",
       "      <td>1</td>\n",
       "      <td>3</td>\n",
       "      <td>4</td>\n",
       "      <td>UA</td>\n",
       "      <td>4737</td>\n",
       "      <td>SGF</td>\n",
       "      <td>Missouri</td>\n",
       "      <td>ORD</td>\n",
       "      <td>Illinois</td>\n",
       "      <td>620</td>\n",
       "      <td>...</td>\n",
       "      <td>99.0</td>\n",
       "      <td>75.0</td>\n",
       "      <td>1.0</td>\n",
       "      <td>438.0</td>\n",
       "      <td>43.0</td>\n",
       "      <td>0.0</td>\n",
       "      <td>0.0</td>\n",
       "      <td>0.0</td>\n",
       "      <td>0.0</td>\n",
       "      <td>NaN</td>\n",
       "    </tr>\n",
       "    <tr>\n",
       "      <th>638646</th>\n",
       "      <td>1</td>\n",
       "      <td>3</td>\n",
       "      <td>4</td>\n",
       "      <td>UA</td>\n",
       "      <td>4736</td>\n",
       "      <td>ORD</td>\n",
       "      <td>Illinois</td>\n",
       "      <td>CAK</td>\n",
       "      <td>Ohio</td>\n",
       "      <td>745</td>\n",
       "      <td>...</td>\n",
       "      <td>85.0</td>\n",
       "      <td>56.0</td>\n",
       "      <td>1.0</td>\n",
       "      <td>343.0</td>\n",
       "      <td>NaN</td>\n",
       "      <td>NaN</td>\n",
       "      <td>NaN</td>\n",
       "      <td>NaN</td>\n",
       "      <td>NaN</td>\n",
       "      <td>NaN</td>\n",
       "    </tr>\n",
       "    <tr>\n",
       "      <th>638647</th>\n",
       "      <td>1</td>\n",
       "      <td>3</td>\n",
       "      <td>4</td>\n",
       "      <td>UA</td>\n",
       "      <td>4735</td>\n",
       "      <td>BIS</td>\n",
       "      <td>North Dakota</td>\n",
       "      <td>DEN</td>\n",
       "      <td>Colorado</td>\n",
       "      <td>615</td>\n",
       "      <td>...</td>\n",
       "      <td>102.0</td>\n",
       "      <td>76.0</td>\n",
       "      <td>1.0</td>\n",
       "      <td>516.0</td>\n",
       "      <td>NaN</td>\n",
       "      <td>NaN</td>\n",
       "      <td>NaN</td>\n",
       "      <td>NaN</td>\n",
       "      <td>NaN</td>\n",
       "      <td>NaN</td>\n",
       "    </tr>\n",
       "    <tr>\n",
       "      <th>638648</th>\n",
       "      <td>1</td>\n",
       "      <td>3</td>\n",
       "      <td>4</td>\n",
       "      <td>UA</td>\n",
       "      <td>4734</td>\n",
       "      <td>SDF</td>\n",
       "      <td>Kentucky</td>\n",
       "      <td>ORD</td>\n",
       "      <td>Illinois</td>\n",
       "      <td>955</td>\n",
       "      <td>...</td>\n",
       "      <td>99.0</td>\n",
       "      <td>53.0</td>\n",
       "      <td>1.0</td>\n",
       "      <td>286.0</td>\n",
       "      <td>NaN</td>\n",
       "      <td>NaN</td>\n",
       "      <td>NaN</td>\n",
       "      <td>NaN</td>\n",
       "      <td>NaN</td>\n",
       "      <td>NaN</td>\n",
       "    </tr>\n",
       "  </tbody>\n",
       "</table>\n",
       "<p>5 rows × 28 columns</p>\n",
       "</div>"
      ],
      "text/plain": [
       "        MONTH  DAY_OF_MONTH  DAY_OF_WEEK MKT_UNIQUE_CARRIER  \\\n",
       "638644      1             3            4                 UA   \n",
       "638645      1             3            4                 UA   \n",
       "638646      1             3            4                 UA   \n",
       "638647      1             3            4                 UA   \n",
       "638648      1             3            4                 UA   \n",
       "\n",
       "        OP_CARRIER_FL_NUM ORIGIN ORIGIN_STATE_NM DEST DEST_STATE_NM  \\\n",
       "638644               4738    ORD        Illinois  LAN      Michigan   \n",
       "638645               4737    SGF        Missouri  ORD      Illinois   \n",
       "638646               4736    ORD        Illinois  CAK          Ohio   \n",
       "638647               4735    BIS    North Dakota  DEN      Colorado   \n",
       "638648               4734    SDF        Kentucky  ORD      Illinois   \n",
       "\n",
       "        CRS_DEP_TIME  ...  ACTUAL_ELAPSED_TIME  AIR_TIME  FLIGHTS  DISTANCE  \\\n",
       "638644          1535  ...                 60.0      34.0      1.0     179.0   \n",
       "638645           620  ...                 99.0      75.0      1.0     438.0   \n",
       "638646           745  ...                 85.0      56.0      1.0     343.0   \n",
       "638647           615  ...                102.0      76.0      1.0     516.0   \n",
       "638648           955  ...                 99.0      53.0      1.0     286.0   \n",
       "\n",
       "        CARRIER_DELAY WEATHER_DELAY  NAS_DELAY  SECURITY_DELAY  \\\n",
       "638644            NaN           NaN        NaN             NaN   \n",
       "638645           43.0           0.0        0.0             0.0   \n",
       "638646            NaN           NaN        NaN             NaN   \n",
       "638647            NaN           NaN        NaN             NaN   \n",
       "638648            NaN           NaN        NaN             NaN   \n",
       "\n",
       "        LATE_AIRCRAFT_DELAY  Unnamed: 27  \n",
       "638644                  NaN          NaN  \n",
       "638645                  0.0          NaN  \n",
       "638646                  NaN          NaN  \n",
       "638647                  NaN          NaN  \n",
       "638648                  NaN          NaN  \n",
       "\n",
       "[5 rows x 28 columns]"
      ]
     },
     "execution_count": 5,
     "metadata": {},
     "output_type": "execute_result"
    }
   ],
   "source": [
    "dfa.tail()"
   ]
  },
  {
   "cell_type": "code",
   "execution_count": 6,
   "metadata": {},
   "outputs": [],
   "source": [
    "dfa=dfa.loc[:, ~df.columns.str.contains('^Unnamed')]"
   ]
  },
  {
   "cell_type": "code",
   "execution_count": 7,
   "metadata": {},
   "outputs": [],
   "source": [
    "#Create Schema to convert to Spark dataframe\n",
    "schema = StructType([ StructField(\"Month\", IntegerType(), True)\\\n",
    "                       ,StructField(\"Date\", IntegerType(), True)\\\n",
    "                       ,StructField(\"Weekday\", IntegerType(), True)\\\n",
    "                       ,StructField(\"Carrier\", StringType(), True)\\\n",
    "                       ,StructField(\"FlightNo\", IntegerType(), True)\\\n",
    "                       ,StructField(\"Origin\", StringType(), True)\\\n",
    "                       ,StructField(\"OriginState\", StringType(), True)\\\n",
    "                       ,StructField(\"Dest\", StringType(), True)\\\n",
    "                       ,StructField(\"DestState\", StringType(), True)\\\n",
    "                       ,StructField(\"SchDep\", IntegerType(), True)\\\n",
    "                       ,StructField(\"DepDelay\", FloatType(), True)\\\n",
    "                       ,StructField(\"DepDelay15\", FloatType(), True)\\\n",
    "                       ,StructField(\"SchArr\", IntegerType(), True)\\\n",
    "                       ,StructField(\"ArrDelay\", FloatType(), True)\\\n",
    "                       ,StructField(\"Cancelled\", FloatType(), True)\\\n",
    "                       ,StructField(\"Cancelcode\", StringType(), True)\\\n",
    "                       ,StructField(\"Diverted\", FloatType(), True)\\\n",
    "                       ,StructField(\"SchElapsedTime\", FloatType(), True)\\\n",
    "                       ,StructField(\"ElapsedTime\", FloatType(), True)\\\n",
    "                       ,StructField(\"Airtime\", FloatType(), True)\\\n",
    "                       ,StructField(\"Flights\", FloatType(), True)\\\n",
    "                       ,StructField(\"Distance\", FloatType(), True)\\\n",
    "                       ,StructField(\"CarrierDelay\", FloatType(), True)\\\n",
    "                       ,StructField(\"WeatherDelay\", FloatType(), True)\\\n",
    "                       ,StructField(\"NASDelay\", FloatType(), True)\\\n",
    "                       ,StructField(\"SecurityDelay\", FloatType(), True)\\\n",
    "                       ,StructField(\"LateAircraftDelay\", FloatType(), True)])"
   ]
  },
  {
   "cell_type": "code",
   "execution_count": 8,
   "metadata": {},
   "outputs": [
    {
     "name": "stdout",
     "output_type": "stream",
     "text": [
      "+-----+----+-------+-------+--------+------+-----------+----+---------+------+--------+----------+------+--------+---------+----------+--------+--------------+-----------+-------+-------+--------+------------+------------+--------+-------------+-----------------+\n",
      "|Month|Date|Weekday|Carrier|FlightNo|Origin|OriginState|Dest|DestState|SchDep|DepDelay|DepDelay15|SchArr|ArrDelay|Cancelled|Cancelcode|Diverted|SchElapsedTime|ElapsedTime|Airtime|Flights|Distance|CarrierDelay|WeatherDelay|NASDelay|SecurityDelay|LateAircraftDelay|\n",
      "+-----+----+-------+-------+--------+------+-----------+----+---------+------+--------+----------+------+--------+---------+----------+--------+--------------+-----------+-------+-------+--------+------------+------------+--------+-------------+-----------------+\n",
      "|    1|  10|      4|     DL|    3837|   DTW|   Michigan| CMH|     Ohio|   820|    -7.0|       0.0|   951|    -9.0|      0.0|       NaN|     0.0|          91.0|       89.0|   38.0|    1.0|   155.0|         NaN|         NaN|     NaN|          NaN|              NaN|\n",
      "|    1|  10|      4|     DL|    3838|   IAD|   Virginia| MSP|Minnesota|  1658|    -6.0|       0.0|  1850|    -8.0|      0.0|       NaN|     0.0|         172.0|      170.0|  148.0|    1.0|   908.0|         NaN|         NaN|     NaN|          NaN|              NaN|\n",
      "|    1|  10|      4|     DL|    3838|   MSP|  Minnesota| IAD| Virginia|  1245|    -4.0|       0.0|  1623|   -30.0|      0.0|       NaN|     0.0|         158.0|      132.0|  114.0|    1.0|   908.0|         NaN|         NaN|     NaN|          NaN|              NaN|\n",
      "|    1|  10|      4|     DL|    3839|   BHM|    Alabama| LGA| New York|   601|    -1.0|       0.0|   930|    -1.0|      0.0|       NaN|     0.0|         149.0|      149.0|  131.0|    1.0|   866.0|         NaN|         NaN|     NaN|          NaN|              NaN|\n",
      "|    1|  10|      4|     DL|    3841|   MSP|  Minnesota| IAD| Virginia|  2025|    -1.0|       0.0|    13|   -35.0|      0.0|       NaN|     0.0|         168.0|      134.0|  107.0|    1.0|   908.0|         NaN|         NaN|     NaN|          NaN|              NaN|\n",
      "+-----+----+-------+-------+--------+------+-----------+----+---------+------+--------+----------+------+--------+---------+----------+--------+--------------+-----------+-------+-------+--------+------------+------------+--------+-------------+-----------------+\n",
      "only showing top 5 rows\n",
      "\n"
     ]
    }
   ],
   "source": [
    "# initialize Spark session and create spark dataframe\n",
    "spark = SparkSession.builder.config(\"spark.sql.warehouse.dir\", \"file:///C:/temp\").appName(\"SparkSQL\").getOrCreate()\n",
    "dfr = spark.createDataFrame(dfa, schema=schema)\n",
    "dfr.show(5)"
   ]
  },
  {
   "cell_type": "code",
   "execution_count": 9,
   "metadata": {},
   "outputs": [],
   "source": [
    "dfr.createOrReplaceTempView(\"Airline\")"
   ]
  },
  {
   "cell_type": "code",
   "execution_count": 10,
   "metadata": {},
   "outputs": [
    {
     "data": {
      "text/plain": [
       "619099"
      ]
     },
     "execution_count": 10,
     "metadata": {},
     "output_type": "execute_result"
    }
   ],
   "source": [
    "#Total number of flights that took off in January\n",
    "dfr1 = spark.sql(\"SELECT Carrier,Cancelled from Airline where Cancelled =0\")\n",
    "\n",
    "dfr1.count()"
   ]
  },
  {
   "cell_type": "code",
   "execution_count": 11,
   "metadata": {},
   "outputs": [
    {
     "data": {
      "text/plain": [
       "19550"
      ]
     },
     "execution_count": 11,
     "metadata": {},
     "output_type": "execute_result"
    }
   ],
   "source": [
    "#Total number of flights cancelled in January\n",
    "dfr2 = spark.sql(\"SELECT Carrier,Cancelled from Airline where Cancelled =1\")\n",
    "\n",
    "dfr2.count()"
   ]
  },
  {
   "cell_type": "code",
   "execution_count": 12,
   "metadata": {},
   "outputs": [
    {
     "data": {
      "text/plain": [
       "3.1578148244464943"
      ]
     },
     "execution_count": 12,
     "metadata": {},
     "output_type": "execute_result"
    }
   ],
   "source": [
    "(dfr2.count()/dfr1.count())*100"
   ]
  },
  {
   "cell_type": "code",
   "execution_count": 13,
   "metadata": {},
   "outputs": [
    {
     "name": "stdout",
     "output_type": "stream",
     "text": [
      "+-------+--------------+\n",
      "|Carrier|sum(Cancelled)|\n",
      "+-------+--------------+\n",
      "|     UA|        6114.0|\n",
      "|     AA|        5832.0|\n",
      "|     WN|        3949.0|\n",
      "|     DL|        1513.0|\n",
      "|     B6|         980.0|\n",
      "|     AS|         736.0|\n",
      "|     NK|         199.0|\n",
      "|     F9|         151.0|\n",
      "|     G4|          50.0|\n",
      "|     HA|          26.0|\n",
      "+-------+--------------+\n",
      "\n"
     ]
    }
   ],
   "source": [
    "#Carrier with most cancellation\n",
    "dfr2.groupby('Carrier').sum('Cancelled').orderBy('sum(Cancelled)', ascending=False).show()"
   ]
  },
  {
   "cell_type": "code",
   "execution_count": 14,
   "metadata": {},
   "outputs": [
    {
     "name": "stdout",
     "output_type": "stream",
     "text": [
      "+-----------+--------------+\n",
      "|Day of Week|sum(Cancelled)|\n",
      "+-----------+--------------+\n",
      "|  Wednesday|        3959.0|\n",
      "|    Tuesday|        3248.0|\n",
      "|   Thursday|        3206.0|\n",
      "|     Sunday|        2827.0|\n",
      "|     Monday|        2814.0|\n",
      "|   Saturday|        2481.0|\n",
      "|     Friday|        1015.0|\n",
      "+-----------+--------------+\n",
      "\n"
     ]
    }
   ],
   "source": [
    "#Weekday with most cancellations\n",
    "dfr2 = spark.sql(\"SELECT Weekday, Cancelled from Airline where Cancelled =1\")\n",
    "\n",
    "t = {1:\"Monday\", 2: \"Tuesday\", 3:\"Wednesday\", 4: \"Thursday\", 5: \"Friday\", 6: \"Saturday\", 7: \"Sunday\"}\n",
    "\n",
    "conv = udf(lambda x: t[x], StringType())\n",
    "dfwd= dfr2.withColumn(\"Day of Week\", conv(\"Weekday\")).groupBy('Day of Week').sum('Cancelled').orderBy('sum(Cancelled)', ascending=False).show()"
   ]
  },
  {
   "cell_type": "code",
   "execution_count": 15,
   "metadata": {},
   "outputs": [],
   "source": [
    "#Average delay of flights originating from Tampa, JFK, ORD, LAX\n",
    "dfrd = spark.sql(\"SELECT Origin, depDelay, Cancelled from Airline where (Origin='TPA' or Origin='ORD' or Origin='JFK' or Origin='LAX') and Cancelled=0\")\n"
   ]
  },
  {
   "cell_type": "code",
   "execution_count": 16,
   "metadata": {},
   "outputs": [
    {
     "name": "stdout",
     "output_type": "stream",
     "text": [
      "+------+------------------+\n",
      "|Origin|     avg(depDelay)|\n",
      "+------+------------------+\n",
      "|   ORD|20.551402208660274|\n",
      "|   JFK|  11.7518191520326|\n",
      "|   LAX| 9.304769966142203|\n",
      "|   TPA| 8.415590335815226|\n",
      "+------+------------------+\n",
      "\n"
     ]
    }
   ],
   "source": [
    "dfrd.groupBy('Origin').avg('depDelay').orderBy('avg(depDelay)', ascending= False).show()"
   ]
  },
  {
   "cell_type": "code",
   "execution_count": 17,
   "metadata": {},
   "outputs": [],
   "source": [
    "# Origin city to Destination Delay\n",
    "dfrod= spark.sql(\"SELECT concat(Origin,'-' ,Dest) as Route, depDelay, Cancelled from Airline where Cancelled=0\")\n"
   ]
  },
  {
   "cell_type": "code",
   "execution_count": 18,
   "metadata": {},
   "outputs": [
    {
     "name": "stdout",
     "output_type": "stream",
     "text": [
      "+-------+------------------+\n",
      "|  Route|     avg(depDelay)|\n",
      "+-------+------------------+\n",
      "|BWI-VPS|             237.0|\n",
      "|VPS-BWI|             235.0|\n",
      "|CMH-AUS|             218.0|\n",
      "|AUS-CMH|             217.0|\n",
      "|EWR-VPS|             208.5|\n",
      "|TWF-SFO|199.14285714285714|\n",
      "|RFD-PGD|             181.8|\n",
      "|SLC-EGE|             163.0|\n",
      "|EGE-SLC|             155.0|\n",
      "|VPS-EWR|             144.5|\n",
      "+-------+------------------+\n",
      "only showing top 10 rows\n",
      "\n"
     ]
    }
   ],
   "source": [
    "dfrod.groupBy('Route').avg('depDelay').orderBy('avg(depDelay)', ascending= False).show(10)"
   ]
  },
  {
   "cell_type": "code",
   "execution_count": 19,
   "metadata": {},
   "outputs": [],
   "source": [
    "# Origin city to Destination Delay\n",
    "dfsd= spark.sql(\"SELECT concat(OriginState,'-' ,DestState) as Route, depDelay, Cancelled from Airline where Cancelled=0\")\n"
   ]
  },
  {
   "cell_type": "code",
   "execution_count": 20,
   "metadata": {},
   "outputs": [
    {
     "name": "stdout",
     "output_type": "stream",
     "text": [
      "+--------------------+-----------------+\n",
      "|               Route|    avg(depDelay)|\n",
      "+--------------------+-----------------+\n",
      "|Wyoming-South Dakota|            104.0|\n",
      "|  Alabama-California|95.33333333333333|\n",
      "|  Wyoming-New Jersey|79.41935483870968|\n",
      "|    Wyoming-Illinois|68.81538461538462|\n",
      "| Oklahoma-New Jersey|             66.0|\n",
      "|North Dakota-Nort...|63.14473684210526|\n",
      "|North Dakota-Georgia|             61.8|\n",
      "|Puerto Rico-Kentucky|             58.5|\n",
      "|  Montana-New Jersey|50.29032258064516|\n",
      "|Mississippi-Illinois|49.11392405063291|\n",
      "+--------------------+-----------------+\n",
      "only showing top 10 rows\n",
      "\n"
     ]
    }
   ],
   "source": [
    "dfsd.groupBy('Route').avg('depDelay').orderBy('avg(depDelay)', ascending= False).show(10)"
   ]
  },
  {
   "cell_type": "markdown",
   "metadata": {},
   "source": [
    "### <center><b>K-MEANS MODEL</b></center>"
   ]
  },
  {
   "cell_type": "code",
   "execution_count": 21,
   "metadata": {},
   "outputs": [
    {
     "data": {
      "text/html": [
       "<div>\n",
       "<style scoped>\n",
       "    .dataframe tbody tr th:only-of-type {\n",
       "        vertical-align: middle;\n",
       "    }\n",
       "\n",
       "    .dataframe tbody tr th {\n",
       "        vertical-align: top;\n",
       "    }\n",
       "\n",
       "    .dataframe thead th {\n",
       "        text-align: right;\n",
       "    }\n",
       "</style>\n",
       "<table border=\"1\" class=\"dataframe\">\n",
       "  <thead>\n",
       "    <tr style=\"text-align: right;\">\n",
       "      <th></th>\n",
       "      <th>MONTH</th>\n",
       "      <th>DAY_OF_MONTH</th>\n",
       "      <th>DAY_OF_WEEK</th>\n",
       "      <th>MKT_UNIQUE_CARRIER</th>\n",
       "      <th>OP_CARRIER_FL_NUM</th>\n",
       "      <th>ORIGIN</th>\n",
       "      <th>ORIGIN_STATE_NM</th>\n",
       "      <th>DEST</th>\n",
       "      <th>DEST_STATE_NM</th>\n",
       "      <th>CRS_DEP_TIME</th>\n",
       "      <th>...</th>\n",
       "      <th>CRS_ELAPSED_TIME</th>\n",
       "      <th>ACTUAL_ELAPSED_TIME</th>\n",
       "      <th>AIR_TIME</th>\n",
       "      <th>FLIGHTS</th>\n",
       "      <th>DISTANCE</th>\n",
       "      <th>CARRIER_DELAY</th>\n",
       "      <th>WEATHER_DELAY</th>\n",
       "      <th>NAS_DELAY</th>\n",
       "      <th>SECURITY_DELAY</th>\n",
       "      <th>LATE_AIRCRAFT_DELAY</th>\n",
       "    </tr>\n",
       "  </thead>\n",
       "  <tbody>\n",
       "    <tr>\n",
       "      <th>0</th>\n",
       "      <td>1</td>\n",
       "      <td>10</td>\n",
       "      <td>4</td>\n",
       "      <td>DL</td>\n",
       "      <td>3837</td>\n",
       "      <td>DTW</td>\n",
       "      <td>Michigan</td>\n",
       "      <td>CMH</td>\n",
       "      <td>Ohio</td>\n",
       "      <td>820</td>\n",
       "      <td>...</td>\n",
       "      <td>91.0</td>\n",
       "      <td>89.0</td>\n",
       "      <td>38.0</td>\n",
       "      <td>1.0</td>\n",
       "      <td>155.0</td>\n",
       "      <td>NaN</td>\n",
       "      <td>NaN</td>\n",
       "      <td>NaN</td>\n",
       "      <td>NaN</td>\n",
       "      <td>NaN</td>\n",
       "    </tr>\n",
       "    <tr>\n",
       "      <th>1</th>\n",
       "      <td>1</td>\n",
       "      <td>10</td>\n",
       "      <td>4</td>\n",
       "      <td>DL</td>\n",
       "      <td>3838</td>\n",
       "      <td>IAD</td>\n",
       "      <td>Virginia</td>\n",
       "      <td>MSP</td>\n",
       "      <td>Minnesota</td>\n",
       "      <td>1658</td>\n",
       "      <td>...</td>\n",
       "      <td>172.0</td>\n",
       "      <td>170.0</td>\n",
       "      <td>148.0</td>\n",
       "      <td>1.0</td>\n",
       "      <td>908.0</td>\n",
       "      <td>NaN</td>\n",
       "      <td>NaN</td>\n",
       "      <td>NaN</td>\n",
       "      <td>NaN</td>\n",
       "      <td>NaN</td>\n",
       "    </tr>\n",
       "    <tr>\n",
       "      <th>2</th>\n",
       "      <td>1</td>\n",
       "      <td>10</td>\n",
       "      <td>4</td>\n",
       "      <td>DL</td>\n",
       "      <td>3838</td>\n",
       "      <td>MSP</td>\n",
       "      <td>Minnesota</td>\n",
       "      <td>IAD</td>\n",
       "      <td>Virginia</td>\n",
       "      <td>1245</td>\n",
       "      <td>...</td>\n",
       "      <td>158.0</td>\n",
       "      <td>132.0</td>\n",
       "      <td>114.0</td>\n",
       "      <td>1.0</td>\n",
       "      <td>908.0</td>\n",
       "      <td>NaN</td>\n",
       "      <td>NaN</td>\n",
       "      <td>NaN</td>\n",
       "      <td>NaN</td>\n",
       "      <td>NaN</td>\n",
       "    </tr>\n",
       "    <tr>\n",
       "      <th>3</th>\n",
       "      <td>1</td>\n",
       "      <td>10</td>\n",
       "      <td>4</td>\n",
       "      <td>DL</td>\n",
       "      <td>3839</td>\n",
       "      <td>BHM</td>\n",
       "      <td>Alabama</td>\n",
       "      <td>LGA</td>\n",
       "      <td>New York</td>\n",
       "      <td>601</td>\n",
       "      <td>...</td>\n",
       "      <td>149.0</td>\n",
       "      <td>149.0</td>\n",
       "      <td>131.0</td>\n",
       "      <td>1.0</td>\n",
       "      <td>866.0</td>\n",
       "      <td>NaN</td>\n",
       "      <td>NaN</td>\n",
       "      <td>NaN</td>\n",
       "      <td>NaN</td>\n",
       "      <td>NaN</td>\n",
       "    </tr>\n",
       "    <tr>\n",
       "      <th>4</th>\n",
       "      <td>1</td>\n",
       "      <td>10</td>\n",
       "      <td>4</td>\n",
       "      <td>DL</td>\n",
       "      <td>3841</td>\n",
       "      <td>MSP</td>\n",
       "      <td>Minnesota</td>\n",
       "      <td>IAD</td>\n",
       "      <td>Virginia</td>\n",
       "      <td>2025</td>\n",
       "      <td>...</td>\n",
       "      <td>168.0</td>\n",
       "      <td>134.0</td>\n",
       "      <td>107.0</td>\n",
       "      <td>1.0</td>\n",
       "      <td>908.0</td>\n",
       "      <td>NaN</td>\n",
       "      <td>NaN</td>\n",
       "      <td>NaN</td>\n",
       "      <td>NaN</td>\n",
       "      <td>NaN</td>\n",
       "    </tr>\n",
       "  </tbody>\n",
       "</table>\n",
       "<p>5 rows × 27 columns</p>\n",
       "</div>"
      ],
      "text/plain": [
       "   MONTH  DAY_OF_MONTH  DAY_OF_WEEK MKT_UNIQUE_CARRIER  OP_CARRIER_FL_NUM  \\\n",
       "0      1            10            4                 DL               3837   \n",
       "1      1            10            4                 DL               3838   \n",
       "2      1            10            4                 DL               3838   \n",
       "3      1            10            4                 DL               3839   \n",
       "4      1            10            4                 DL               3841   \n",
       "\n",
       "  ORIGIN ORIGIN_STATE_NM DEST DEST_STATE_NM  CRS_DEP_TIME  ...  \\\n",
       "0    DTW        Michigan  CMH          Ohio           820  ...   \n",
       "1    IAD        Virginia  MSP     Minnesota          1658  ...   \n",
       "2    MSP       Minnesota  IAD      Virginia          1245  ...   \n",
       "3    BHM         Alabama  LGA      New York           601  ...   \n",
       "4    MSP       Minnesota  IAD      Virginia          2025  ...   \n",
       "\n",
       "   CRS_ELAPSED_TIME  ACTUAL_ELAPSED_TIME  AIR_TIME  FLIGHTS  DISTANCE  \\\n",
       "0              91.0                 89.0      38.0      1.0     155.0   \n",
       "1             172.0                170.0     148.0      1.0     908.0   \n",
       "2             158.0                132.0     114.0      1.0     908.0   \n",
       "3             149.0                149.0     131.0      1.0     866.0   \n",
       "4             168.0                134.0     107.0      1.0     908.0   \n",
       "\n",
       "  CARRIER_DELAY  WEATHER_DELAY  NAS_DELAY  SECURITY_DELAY  LATE_AIRCRAFT_DELAY  \n",
       "0           NaN            NaN        NaN             NaN                  NaN  \n",
       "1           NaN            NaN        NaN             NaN                  NaN  \n",
       "2           NaN            NaN        NaN             NaN                  NaN  \n",
       "3           NaN            NaN        NaN             NaN                  NaN  \n",
       "4           NaN            NaN        NaN             NaN                  NaN  \n",
       "\n",
       "[5 rows x 27 columns]"
      ]
     },
     "execution_count": 21,
     "metadata": {},
     "output_type": "execute_result"
    }
   ],
   "source": [
    "from scipy import stats\n",
    "from sklearn.cluster import KMeans\n",
    "import pandas as pd\n",
    "\n",
    "\n",
    "df_tr = dfa\n",
    "df_tr.head()"
   ]
  },
  {
   "cell_type": "code",
   "execution_count": 22,
   "metadata": {},
   "outputs": [],
   "source": [
    "df_tr=df_tr.loc[df_tr['CANCELLED'] == 0]\n"
   ]
  },
  {
   "cell_type": "code",
   "execution_count": 23,
   "metadata": {},
   "outputs": [
    {
     "name": "stdout",
     "output_type": "stream",
     "text": [
      "[[-0.64297987  0.0838701  -0.34293458 -0.4621799  -1.05624232]\n",
      " [-0.64297987  0.0838701  -0.3227094  -0.4621799   0.23557658]\n",
      " [-0.64297987  0.0838701  -0.28225905 -0.4621799   0.23557658]\n",
      " ...\n",
      " [-1.42433679  0.0838701  -0.28225905 -0.4621799  -0.73371648]\n",
      " [-1.42433679  0.0838701  -0.28225905 -0.4621799  -0.4369241 ]\n",
      " [-1.42433679  0.0838701  -0.3227094  -0.4621799  -0.83150357]]\n"
     ]
    }
   ],
   "source": [
    "#Standardize\n",
    "clmns = ['DAY_OF_MONTH','DAY_OF_WEEK', 'DEP_DELAY', 'DEP_DEL15', 'DISTANCE']\n",
    "df_tr_std = stats.zscore(df_tr[clmns])\n",
    "print(df_tr_std)"
   ]
  },
  {
   "cell_type": "code",
   "execution_count": 24,
   "metadata": {},
   "outputs": [
    {
     "name": "stdout",
     "output_type": "stream",
     "text": [
      "          DAY_OF_MONTH  DAY_OF_WEEK  DEP_DELAY  DEP_DEL15     DISTANCE\n",
      "clusters                                                              \n",
      "0            15.210701     3.836327  -0.590422   0.049031  1987.068080\n",
      "1            13.880700     5.675505  -3.302270   0.000000   596.845417\n",
      "2            17.154205     2.374383  -3.458916   0.000000   578.847151\n",
      "3            16.399141     3.816378  73.046496   1.000000   724.930479\n"
     ]
    },
    {
     "name": "stderr",
     "output_type": "stream",
     "text": [
      "C:\\Users\\coe\\Anaconda3\\lib\\site-packages\\ipykernel_launcher.py:6: SettingWithCopyWarning: \n",
      "A value is trying to be set on a copy of a slice from a DataFrame.\n",
      "Try using .loc[row_indexer,col_indexer] = value instead\n",
      "\n",
      "See the caveats in the documentation: http://pandas.pydata.org/pandas-docs/stable/indexing.html#indexing-view-versus-copy\n",
      "  \n"
     ]
    }
   ],
   "source": [
    "#Cluster the data\n",
    "kmeans = KMeans(n_clusters=4, random_state=0).fit(df_tr_std)\n",
    "labels = kmeans.labels_\n",
    "\n",
    "#Glue back to originaal data\n",
    "df_tr['clusters'] = labels\n",
    "\n",
    "#Add the column into our list\n",
    "clmns.extend(['clusters'])\n",
    "\n",
    "#Lets analyze the clusters\n",
    "print(df_tr[clmns].groupby(['clusters']).mean())"
   ]
  },
  {
   "cell_type": "code",
   "execution_count": null,
   "metadata": {},
   "outputs": [],
   "source": []
  },
  {
   "cell_type": "code",
   "execution_count": 25,
   "metadata": {},
   "outputs": [],
   "source": [
    "from pyspark.ml import Pipeline\n",
    "from pyspark.ml.classification import DecisionTreeClassifier\n",
    "from pyspark.ml.feature import StringIndexer, VectorIndexer\n",
    "from pyspark.ml.evaluation import MulticlassClassificationEvaluator"
   ]
  },
  {
   "cell_type": "code",
   "execution_count": 26,
   "metadata": {},
   "outputs": [],
   "source": [
    "# Load the data stored in csv format as a DataFrame.\n",
    "data = spark.read.load(r'C:\\Users\\coe\\Desktop\\BigData\\1.csv',\n",
    "                     format=\"csv\", sep=\",\", inferSchema='true', header=\"true\")"
   ]
  },
  {
   "cell_type": "code",
   "execution_count": 27,
   "metadata": {},
   "outputs": [
    {
     "name": "stdout",
     "output_type": "stream",
     "text": [
      "root\n",
      " |-- MONTH: integer (nullable = true)\n",
      " |-- DAY_OF_MONTH: integer (nullable = true)\n",
      " |-- DAY_OF_WEEK: integer (nullable = true)\n",
      " |-- MKT_UNIQUE_CARRIER: string (nullable = true)\n",
      " |-- OP_CARRIER_FL_NUM: integer (nullable = true)\n",
      " |-- ORIGIN: string (nullable = true)\n",
      " |-- ORIGIN_STATE_NM: string (nullable = true)\n",
      " |-- DEST: string (nullable = true)\n",
      " |-- DEST_STATE_NM: string (nullable = true)\n",
      " |-- CRS_DEP_TIME: integer (nullable = true)\n",
      " |-- DEP_DELAY: double (nullable = true)\n",
      " |-- DEP_DEL15: double (nullable = true)\n",
      " |-- CRS_ARR_TIME: integer (nullable = true)\n",
      " |-- ARR_DELAY: double (nullable = true)\n",
      " |-- CANCELLED: double (nullable = true)\n",
      " |-- CANCELLATION_CODE: string (nullable = true)\n",
      " |-- DIVERTED: double (nullable = true)\n",
      " |-- CRS_ELAPSED_TIME: double (nullable = true)\n",
      " |-- ACTUAL_ELAPSED_TIME: double (nullable = true)\n",
      " |-- AIR_TIME: double (nullable = true)\n",
      " |-- FLIGHTS: double (nullable = true)\n",
      " |-- DISTANCE: double (nullable = true)\n",
      " |-- CARRIER_DELAY: double (nullable = true)\n",
      " |-- WEATHER_DELAY: double (nullable = true)\n",
      " |-- NAS_DELAY: double (nullable = true)\n",
      " |-- SECURITY_DELAY: double (nullable = true)\n",
      " |-- LATE_AIRCRAFT_DELAY: double (nullable = true)\n",
      " |-- _c27: string (nullable = true)\n",
      "\n"
     ]
    }
   ],
   "source": [
    "data.printSchema()"
   ]
  },
  {
   "cell_type": "code",
   "execution_count": 28,
   "metadata": {},
   "outputs": [],
   "source": [
    "from pyspark.ml.feature import StringIndexer\n",
    "from pyspark.sql.functions import col\n",
    "\n",
    "stringIndexer = StringIndexer(inputCol=\"CRS_DEP_TIME\", outputCol=\"index\")\n",
    "model = stringIndexer.fit(data)\n",
    "df_data = model.transform(data)\n"
   ]
  },
  {
   "cell_type": "code",
   "execution_count": 707,
   "metadata": {},
   "outputs": [
    {
     "data": {
      "text/plain": [
       "MapPartitionsRDD[917] at javaToPython at NativeMethodAccessorImpl.java:0"
      ]
     },
     "execution_count": 707,
     "metadata": {},
     "output_type": "execute_result"
    }
   ],
   "source": [
    "df_data.rdd"
   ]
  },
  {
   "cell_type": "code",
   "execution_count": 29,
   "metadata": {},
   "outputs": [],
   "source": [
    "#parse columns for classification(data) & Regression(datar)\n",
    "\n",
    "data = df_data.rdd.map(lambda x: ((x[15]), Vectors.dense(float(x[4]),float(x[2]),float(x[9]),float(x[12]),float(x[21]))))\n",
    "datar = df_data.rdd.map(lambda x: ((x[14]), Vectors.dense(float(x[4]),float(x[2]),float(x[9]),float(x[12]),float(x[21]))))\n",
    "datalr = df_data.rdd.map(lambda x: ((x[14]), Vectors.dense(float(x[9]))))"
   ]
  },
  {
   "cell_type": "code",
   "execution_count": 31,
   "metadata": {},
   "outputs": [],
   "source": [
    "from pyspark.ml.linalg import Vectors\n"
   ]
  },
  {
   "cell_type": "code",
   "execution_count": 32,
   "metadata": {},
   "outputs": [],
   "source": [
    "# create dataframe for classification(datap) & Regression(datapr)\n",
    "\n",
    "datap = sqlContext.createDataFrame(data, ['label','features'],samplingRatio=0.2)\n",
    "datapr = sqlContext.createDataFrame(datar, ['label','features'],samplingRatio=0.2)"
   ]
  },
  {
   "cell_type": "code",
   "execution_count": 33,
   "metadata": {},
   "outputs": [],
   "source": [
    "datlr = sqlContext.createDataFrame(datalr, ['label','features'],samplingRatio=0.2)"
   ]
  },
  {
   "cell_type": "code",
   "execution_count": 34,
   "metadata": {},
   "outputs": [],
   "source": [
    "#Filter out null values\n",
    "\n",
    "dfapp1=datap.filter(\"label is not null\")\n",
    "dfapp2=datapr.filter(\"label is not null\")"
   ]
  },
  {
   "cell_type": "code",
   "execution_count": 35,
   "metadata": {},
   "outputs": [],
   "source": [
    "dfapp3=datlr.filter(\"label is not null\")"
   ]
  },
  {
   "cell_type": "code",
   "execution_count": 36,
   "metadata": {},
   "outputs": [],
   "source": [
    "# Index labels, adding metadata to the label column.\n",
    "# Fit on whole dataset to include all labels in index.\n",
    "labelIndexer = StringIndexer(inputCol=\"label\", outputCol=\"indexedLabel\", handleInvalid=\"skip\").fit(dfapp1)"
   ]
  },
  {
   "cell_type": "code",
   "execution_count": 37,
   "metadata": {},
   "outputs": [],
   "source": [
    "# Automatically identify categorical features, and index them.\n",
    "# We specify maxCategories so features with > 4 distinct values are treated as continuous.\n",
    "featureIndexer =\\\n",
    "    VectorIndexer(inputCol=\"features\", outputCol=\"indexedFeatures\", maxCategories=4).fit(dfapp1)"
   ]
  },
  {
   "cell_type": "code",
   "execution_count": 38,
   "metadata": {},
   "outputs": [],
   "source": [
    "# Split the data into training and test sets (30% held out for testing)\n",
    "(trainingData, testData) = dfapp1.randomSplit([0.7, 0.3])"
   ]
  },
  {
   "cell_type": "code",
   "execution_count": 39,
   "metadata": {},
   "outputs": [],
   "source": [
    "# Train a DecisionTree model.\n",
    "dt = DecisionTreeClassifier(labelCol=\"indexedLabel\", featuresCol=\"indexedFeatures\")"
   ]
  },
  {
   "cell_type": "code",
   "execution_count": 40,
   "metadata": {},
   "outputs": [],
   "source": [
    "# Chain indexers and tree in a Pipeline\n",
    "pipeline = Pipeline(stages=[labelIndexer, featureIndexer, dt])"
   ]
  },
  {
   "cell_type": "code",
   "execution_count": 41,
   "metadata": {},
   "outputs": [],
   "source": [
    "# Train model.  This also runs the indexers.\n",
    "model = pipeline.fit(trainingData)"
   ]
  },
  {
   "cell_type": "code",
   "execution_count": 42,
   "metadata": {},
   "outputs": [],
   "source": [
    "# Make predictions.\n",
    "predictions = model.transform(testData)"
   ]
  },
  {
   "cell_type": "code",
   "execution_count": 43,
   "metadata": {},
   "outputs": [
    {
     "name": "stdout",
     "output_type": "stream",
     "text": [
      "+----------+------------+-----+\n",
      "|prediction|indexedLabel|label|\n",
      "+----------+------------+-----+\n",
      "|       0.0|         2.0|    A|\n",
      "|       0.0|         2.0|    A|\n",
      "|       0.0|         2.0|    A|\n",
      "|       0.0|         2.0|    A|\n",
      "|       0.0|         2.0|    A|\n",
      "|       0.0|         2.0|    A|\n",
      "|       0.0|         2.0|    A|\n",
      "|       0.0|         2.0|    A|\n",
      "|       0.0|         2.0|    A|\n",
      "|       0.0|         2.0|    A|\n",
      "+----------+------------+-----+\n",
      "only showing top 10 rows\n",
      "\n"
     ]
    }
   ],
   "source": [
    "# Select example rows to display.\n",
    "predictions.select(\"prediction\", \"indexedLabel\", \"label\").show(10)"
   ]
  },
  {
   "cell_type": "code",
   "execution_count": 44,
   "metadata": {},
   "outputs": [
    {
     "name": "stdout",
     "output_type": "stream",
     "text": [
      "Test Error = 0.250691 \n"
     ]
    }
   ],
   "source": [
    "# Select (prediction, true label) and compute test error\n",
    "evaluator = MulticlassClassificationEvaluator(\n",
    "    labelCol=\"indexedLabel\", predictionCol=\"prediction\", metricName=\"accuracy\")\n",
    "accuracy = evaluator.evaluate(predictions)\n",
    "print(\"Test Error = %g \" % (1.0 - accuracy))"
   ]
  },
  {
   "cell_type": "code",
   "execution_count": 45,
   "metadata": {},
   "outputs": [],
   "source": [
    "treeModel = model.stages[2]"
   ]
  },
  {
   "cell_type": "code",
   "execution_count": 46,
   "metadata": {},
   "outputs": [
    {
     "name": "stdout",
     "output_type": "stream",
     "text": [
      "DecisionTreeClassificationModel (uid=DecisionTreeClassifier_803ab9947195) of depth 5 with 17 nodes\n"
     ]
    }
   ],
   "source": [
    "# summary only\n",
    "print(treeModel)"
   ]
  },
  {
   "cell_type": "markdown",
   "metadata": {},
   "source": [
    "## RANDOM FOREST Classification"
   ]
  },
  {
   "cell_type": "code",
   "execution_count": 47,
   "metadata": {},
   "outputs": [],
   "source": [
    "from pyspark.ml.classification import RandomForestClassifier\n",
    "from pyspark.ml.feature import IndexToString\n",
    "\n",
    "# Train a RandomForest model.\n",
    "rf = RandomForestClassifier(labelCol=\"indexedLabel\", featuresCol=\"indexedFeatures\", numTrees=10)"
   ]
  },
  {
   "cell_type": "code",
   "execution_count": 48,
   "metadata": {},
   "outputs": [],
   "source": [
    "# Convert indexed labels back to original labels.\n",
    "labelConverter = IndexToString(inputCol=\"prediction\", outputCol=\"predictedLabel\",\n",
    "                               labels=labelIndexer.labels)"
   ]
  },
  {
   "cell_type": "code",
   "execution_count": 49,
   "metadata": {},
   "outputs": [],
   "source": [
    "# Chain indexers and forest in a Pipeline\n",
    "pipeline = Pipeline(stages=[labelIndexer, featureIndexer, rf, labelConverter])"
   ]
  },
  {
   "cell_type": "code",
   "execution_count": 50,
   "metadata": {},
   "outputs": [],
   "source": [
    "# Train model.  This also runs the indexers.\n",
    "model = pipeline.fit(trainingData)"
   ]
  },
  {
   "cell_type": "code",
   "execution_count": 51,
   "metadata": {},
   "outputs": [],
   "source": [
    "# Make predictions.\n",
    "predictions = model.transform(testData)"
   ]
  },
  {
   "cell_type": "code",
   "execution_count": 52,
   "metadata": {},
   "outputs": [
    {
     "name": "stdout",
     "output_type": "stream",
     "text": [
      "+--------------+-----+--------------------+\n",
      "|predictedLabel|label|            features|\n",
      "+--------------+-----+--------------------+\n",
      "|             B|    A|[43.0,2.0,1040.0,...|\n",
      "|             B|    A|[166.0,3.0,2310.0...|\n",
      "|             B|    A|[327.0,4.0,845.0,...|\n",
      "|             B|    A|[415.0,5.0,2315.0...|\n",
      "|             B|    A|[573.0,3.0,600.0,...|\n",
      "+--------------+-----+--------------------+\n",
      "only showing top 5 rows\n",
      "\n"
     ]
    }
   ],
   "source": [
    "# Select example rows to display.\n",
    "predictions.select(\"predictedLabel\", \"label\", \"features\").show(5)"
   ]
  },
  {
   "cell_type": "code",
   "execution_count": 53,
   "metadata": {},
   "outputs": [
    {
     "name": "stdout",
     "output_type": "stream",
     "text": [
      "Test Error = 0.251728\n"
     ]
    }
   ],
   "source": [
    "# Select (prediction, true label) and compute test error\n",
    "evaluator = MulticlassClassificationEvaluator(\n",
    "    labelCol=\"indexedLabel\", predictionCol=\"prediction\", metricName=\"accuracy\")\n",
    "accuracy = evaluator.evaluate(predictions)\n",
    "print(\"Test Error = %g\" % (1.0 - accuracy))"
   ]
  },
  {
   "cell_type": "code",
   "execution_count": 54,
   "metadata": {},
   "outputs": [
    {
     "name": "stdout",
     "output_type": "stream",
     "text": [
      "RandomForestClassificationModel (uid=RandomForestClassifier_73fbad97bcb7) with 10 trees\n"
     ]
    }
   ],
   "source": [
    "rfModel = model.stages[2]\n",
    "print(rfModel)  # summary only"
   ]
  },
  {
   "cell_type": "markdown",
   "metadata": {},
   "source": [
    "## RANDOM FOREST Regression"
   ]
  },
  {
   "cell_type": "code",
   "execution_count": 55,
   "metadata": {},
   "outputs": [],
   "source": [
    "from pyspark.ml.regression import RandomForestRegressor\n",
    "from pyspark.ml.evaluation import RegressionEvaluator\n"
   ]
  },
  {
   "cell_type": "code",
   "execution_count": 56,
   "metadata": {},
   "outputs": [],
   "source": [
    "# Automatically identify categorical features, and index them.\n",
    "# Set maxCategories so features with > 4 distinct values are treated as continuous.\n",
    "featureIndexer =\\\n",
    "    VectorIndexer(inputCol=\"features\", outputCol=\"indexedFeatures\", maxCategories=4,handleInvalid='skip').fit(dfapp2)"
   ]
  },
  {
   "cell_type": "code",
   "execution_count": 57,
   "metadata": {},
   "outputs": [],
   "source": [
    "# Split the data into training and test sets (30% held out for testing)\n",
    "(trainingData, testData) = dfapp2.randomSplit([0.7, 0.3])"
   ]
  },
  {
   "cell_type": "code",
   "execution_count": 58,
   "metadata": {},
   "outputs": [],
   "source": [
    "# Train a RandomForest model.\n",
    "rf = RandomForestRegressor(featuresCol=\"indexedFeatures\")"
   ]
  },
  {
   "cell_type": "code",
   "execution_count": 59,
   "metadata": {},
   "outputs": [],
   "source": [
    "# Chain indexer and forest in a Pipeline\n",
    "pipeline = Pipeline(stages=[featureIndexer, rf])"
   ]
  },
  {
   "cell_type": "code",
   "execution_count": 60,
   "metadata": {},
   "outputs": [],
   "source": [
    "# Train model.  This also runs the indexer.\n",
    "model = pipeline.fit(trainingData)"
   ]
  },
  {
   "cell_type": "code",
   "execution_count": 61,
   "metadata": {},
   "outputs": [],
   "source": [
    "# Make predictions.\n",
    "predictions = model.transform(testData)"
   ]
  },
  {
   "cell_type": "code",
   "execution_count": 62,
   "metadata": {},
   "outputs": [
    {
     "name": "stdout",
     "output_type": "stream",
     "text": [
      "+--------------------+--------------------+-----+\n",
      "|          prediction|            features|label|\n",
      "+--------------------+--------------------+-----+\n",
      "|0.008106605061505599|[1.0,2.0,800.0,11...|  0.0|\n",
      "| 0.03234776669891556|[1.0,3.0,1140.0,1...|  0.0|\n",
      "|0.008377390429297577|[1.0,4.0,800.0,11...|  0.0|\n",
      "|0.005919031132843062|[1.0,5.0,800.0,11...|  0.0|\n",
      "|0.017097053007050222|[1.0,6.0,800.0,11...|  0.0|\n",
      "+--------------------+--------------------+-----+\n",
      "only showing top 5 rows\n",
      "\n"
     ]
    }
   ],
   "source": [
    "# Select example rows to display.\n",
    "predictions.select(\"prediction\", \"features\", \"label\").show(5)"
   ]
  },
  {
   "cell_type": "code",
   "execution_count": 63,
   "metadata": {},
   "outputs": [
    {
     "name": "stdout",
     "output_type": "stream",
     "text": [
      "Root Mean Squared Error (RMSE) on test data = 0.171704\n"
     ]
    }
   ],
   "source": [
    "# Select (prediction, true label) and compute test error\n",
    "evaluator = RegressionEvaluator(\n",
    "    labelCol=\"label\", predictionCol=\"prediction\", metricName=\"rmse\")\n",
    "rmse = evaluator.evaluate(predictions)\n",
    "print(\"Root Mean Squared Error (RMSE) on test data = %g\" % rmse)"
   ]
  },
  {
   "cell_type": "code",
   "execution_count": 64,
   "metadata": {},
   "outputs": [
    {
     "name": "stdout",
     "output_type": "stream",
     "text": [
      "RandomForestRegressionModel (uid=RandomForestRegressor_ae343ca002f2) with 20 trees\n"
     ]
    }
   ],
   "source": [
    "rfModel = model.stages[1]\n",
    "print(rfModel)  # summary only"
   ]
  },
  {
   "cell_type": "markdown",
   "metadata": {},
   "source": [
    "## GRADIENT BOOSTED-TREE (Regression)"
   ]
  },
  {
   "cell_type": "code",
   "execution_count": 65,
   "metadata": {},
   "outputs": [],
   "source": [
    "from pyspark.ml.regression import GBTRegressor"
   ]
  },
  {
   "cell_type": "code",
   "execution_count": 66,
   "metadata": {},
   "outputs": [],
   "source": [
    "featureIndexer =\\\n",
    "    VectorIndexer(inputCol=\"features\", outputCol=\"indexedFeatures\", maxCategories=4).fit(dfapp2)"
   ]
  },
  {
   "cell_type": "code",
   "execution_count": 67,
   "metadata": {},
   "outputs": [],
   "source": [
    "# Split the data into training and test sets (30% held out for testing)\n",
    "(trainingData, testData) = dfapp2.randomSplit([0.7, 0.3])"
   ]
  },
  {
   "cell_type": "code",
   "execution_count": 68,
   "metadata": {},
   "outputs": [],
   "source": [
    "# Train a GBT model.\n",
    "gbt = GBTRegressor(featuresCol=\"indexedFeatures\", maxIter=10)"
   ]
  },
  {
   "cell_type": "code",
   "execution_count": 69,
   "metadata": {},
   "outputs": [],
   "source": [
    "# Chain indexer and GBT in a Pipeline\n",
    "pipeline = Pipeline(stages=[featureIndexer, gbt])"
   ]
  },
  {
   "cell_type": "code",
   "execution_count": 70,
   "metadata": {},
   "outputs": [],
   "source": [
    "# Train model.  This also runs the indexer.\n",
    "model = pipeline.fit(trainingData)"
   ]
  },
  {
   "cell_type": "code",
   "execution_count": 71,
   "metadata": {},
   "outputs": [],
   "source": [
    "# Make predictions.\n",
    "predictions = model.transform(testData)"
   ]
  },
  {
   "cell_type": "code",
   "execution_count": 72,
   "metadata": {},
   "outputs": [
    {
     "name": "stdout",
     "output_type": "stream",
     "text": [
      "+--------------------+-----+--------------------+\n",
      "|          prediction|label|            features|\n",
      "+--------------------+-----+--------------------+\n",
      "|0.004578731788893817|  0.0|[1.0,2.0,800.0,11...|\n",
      "| 0.03330313775536682|  0.0|[1.0,3.0,1140.0,1...|\n",
      "|0.001234406812453901|  0.0|[1.0,5.0,800.0,11...|\n",
      "|0.012811186240871835|  0.0|[1.0,7.0,800.0,11...|\n",
      "| 0.01004937241773574|  0.0|[2.0,1.0,1400.0,2...|\n",
      "+--------------------+-----+--------------------+\n",
      "only showing top 5 rows\n",
      "\n"
     ]
    }
   ],
   "source": [
    "# Select example rows to display.\n",
    "predictions.select(\"prediction\", \"label\", \"features\").show(5)"
   ]
  },
  {
   "cell_type": "code",
   "execution_count": 73,
   "metadata": {},
   "outputs": [
    {
     "name": "stdout",
     "output_type": "stream",
     "text": [
      "Root Mean Squared Error (RMSE) on test data = 0.169945\n"
     ]
    }
   ],
   "source": [
    "# Select (prediction, true label) and compute test error\n",
    "evaluator = RegressionEvaluator(\n",
    "    labelCol=\"label\", predictionCol=\"prediction\", metricName=\"rmse\")\n",
    "rmse = evaluator.evaluate(predictions)\n",
    "print(\"Root Mean Squared Error (RMSE) on test data = %g\" % rmse)"
   ]
  },
  {
   "cell_type": "code",
   "execution_count": 74,
   "metadata": {},
   "outputs": [
    {
     "name": "stdout",
     "output_type": "stream",
     "text": [
      "GBTRegressionModel (uid=GBTRegressor_65b6bcf57e89) with 10 trees\n"
     ]
    }
   ],
   "source": [
    "gbtModel = model.stages[1]\n",
    "print(gbtModel)  # summary only"
   ]
  }
 ],
 "metadata": {
  "kernelspec": {
   "display_name": "Python 3",
   "language": "python",
   "name": "python3"
  },
  "language_info": {
   "codemirror_mode": {
    "name": "ipython",
    "version": 3
   },
   "file_extension": ".py",
   "mimetype": "text/x-python",
   "name": "python",
   "nbconvert_exporter": "python",
   "pygments_lexer": "ipython3",
   "version": "3.7.3"
  }
 },
 "nbformat": 4,
 "nbformat_minor": 2
}
