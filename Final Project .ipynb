{
 "cells": [
  {
   "cell_type": "markdown",
   "metadata": {},
   "source": [
    "# <center><b>  ISM 6562 Big Data for Business</b> </center>\n",
    "\n",
    "### <center>  AIRLINE PERFORMANCE DATASET</center>\n",
    "\n",
    "<center>by: Chukwuebuka Ezema  and Shruti Sridharan</center>\n",
    "<br>\n",
    "<br>\n",
    "<br>"
   ]
  },
  {
   "cell_type": "markdown",
   "metadata": {},
   "source": [
    "# <b>INTRODUCTION</b>\n",
    "The U.S. Department of Transportation (DOT) Bureau of Transportation Statistics tracks the on-time performance of domestic flights. This data anlytics project aims to analyze the on-time flight departure performance and cancellations by major air carriers from Jan.2019 to Feb 2018\n",
    "The data was downloaded from the U.S. Department of Transportation's (DOT) Bureau of Transportation Statistics (BTS):https://www.transtats.bts.gov/DL_SelectFields.asp <br>\n",
    "## <b>ABOUT THE PROJECT</b>\n",
    "Travel opportunities around the world has made distance just a number. The ability to travel and be connected to most of the cities across US is a boon. But sometimes, apart from being expensive, flights could charge you with other costs, like delays and cancellations. This happens due to various amounts of reasons like weather conditions, technical failures etc. \n",
    "How many times have you travelled by a flight in the month of January 2019? And, have you experienced any flight delays or cancellations? \n",
    "If you have, you can see for yourself through the exploratory analysis that we have performed, using data from the past year and know the exact cause of it.\n",
    "If you haven't experienced any of these, then through our data modelling predictions, we can make you aware of any experiences that you may face in future and plan better.\n",
    "The inital part of the project takes you through a bunch of exploratory analysis to keep you aware of variables and factors that are prevelant to make data related decisions.\n",
    "The further we move and get comfortable with our dataset, we run a few models to train our data to predict future instances of delays or cancellations. \n",
    "We have used PySpark to run the analysis and modelling. Jupyter Notebooks is a good way to comment and analyze the codes in depth.<br>\n",
    "<br>"
   ]
  },
  {
   "cell_type": "markdown",
   "metadata": {},
   "source": [
    "### <b>Exploratory Analysis:</b>\n",
    "<b>Analysis - 1</b><br>\n",
    "Carrier with most flight cancellations.<br> \n",
    "\n",
    "<b>Analysis - 2</b><br>\n",
    "Consequently, which day of the week were flight cancellations most frequent?<br>\n",
    "\n",
    "<b>Analysis - 3</b><br>\n",
    "What was the average delay time for flights originating from Tampa (TPA)\n",
    "\n",
    "<b>Analysis - 4</b><br>\n",
    "Which orgin city had the most delay?\n",
    "\n",
    "<b>Analysis - 5</b><br>\n",
    "Origin city to Destination delay analysis\n",
    "\n",
    "<b>Performing data prediction using modelling techniques</b><br>\n",
    "K-Means Clustering<br>\n",
    "Decision Tree<br>\n",
    "Random Forest<br>\n",
    "Gradient Boosted Tree<br>\n",
    "\n"
   ]
 },
  {
   "cell_type": "markdown",
   "metadata": {},
   "source": [
    "## <center>  EXPLORATORY ANALYSIS </center>"
   ]
  },
  {
   "cell_type": "code",
   "execution_count": 1,
   "metadata": {},
   "outputs": [],
   "source": [
    "import findspark\n",
    "findspark.init()\n",
    "import pyspark"
   ]
  },
  {
   "cell_type": "code",
   "execution_count": 2,
   "metadata": {
    "scrolled": true
   },
   "outputs": [
    {
     "data": {
      "text/html": [
       "\n",
       "        <div>\n",
       "            <p><b>SparkContext</b></p>\n",
       "\n",
       "            <p><a href=\"http://DESKTOP-CD9RMRA:4041\">Spark UI</a></p>\n",
       "\n",
       "            <dl>\n",
       "              <dt>Version</dt>\n",
       "                <dd><code>v2.4.2</code></dd>\n",
       "              <dt>Master</dt>\n",
       "                <dd><code>local[*]</code></dd>\n",
       "              <dt>AppName</dt>\n",
       "                <dd><code>SparkSQL</code></dd>\n",
       "            </dl>\n",
       "        </div>\n",
       "        "
      ],
      "text/plain": [
       "<SparkContext master=local[*] appName=SparkSQL>"
      ]
     },
     "execution_count": 2,
     "metadata": {},
     "output_type": "execute_result"
    }
   ],
   "source": [
    "from pyspark.sql import Row\n",
    "from pyspark.sql import functions\n",
    "from pyspark.sql import SQLContext\n",
    "from pyspark import SparkContext, SparkConf\n",
    "from pyspark.sql.types import *\n",
    "from pyspark.sql.functions import *\n",
    "import pyspark.sql.functions as func\n",
    "from pyspark.sql import SparkSession\n",
    "\n",
    "spark = SparkSession.builder.config(\"spark.sql.warehouse.dir\", \"file:///C:/temp\").appName(\"SparkSQL\").getOrCreate()\n",
    "\n",
    "sc = SparkContext.getOrCreate(SparkConf().setMaster(\"local[*]\"))\n",
    "sqlContext = SQLContext(sc)\n",
    "sc"
   ]
  },
  {
   "cell_type": "code",
   "execution_count": 170,
   "metadata": {},
   "outputs": [],
   "source": [
    "# Load the data stored in csv format as a DataFrame.\n",
    "data = spark.read.load(r'C:\\Users\\coe\\Desktop\\BigData\\airline.csv',\n",
    "                     format=\"csv\", sep=\",\", inferSchema='true', header=\"true\")"
   ]
  },
  {
   "cell_type": "code",
   "execution_count": 171,
   "metadata": {},
   "outputs": [],
   "source": [
    "#create a new copy of the Spark dataframe\n",
    "dfa = data"
   ]
  },
  {
   "cell_type": "code",
   "execution_count": 5,
   "metadata": {},
   "outputs": [],
   "source": [
    "#Create Table for explatory analysis\n",
    "\n",
    "data.createOrReplaceTempView(\"Airline\")"
   ]
  },
  {
   "cell_type": "code",
   "execution_count": 6,
   "metadata": {},
   "outputs": [
    {
     "data": {
      "text/plain": [
       "1891837"
      ]
     },
     "execution_count": 6,
     "metadata": {},
     "output_type": "execute_result"
    }
   ],
   "source": [
    "#Total number of flights that took off in January (Not cancelled)\n",
    "dfr1 = spark.sql(\"SELECT MKT_UNIQUE_CARRIER,CANCELLED from Airline where CANCELLED =0\")\n",
    "\n",
    "dfr1.count()"
   ]
  },
  {
   "cell_type": "code",
   "execution_count": 7,
   "metadata": {},
   "outputs": [
    {
     "data": {
      "text/plain": [
       "35122"
      ]
     },
     "execution_count": 7,
     "metadata": {},
     "output_type": "execute_result"
    }
   ],
   "source": [
    "#Total number of flights cancelled in January\n",
    "\n",
    "dfr1b = spark.sql(\"SELECT MKT_UNIQUE_CARRIER,CANCELLED from Airline where CANCELLED =1\")\n",
    "\n",
    "dfr1b.count()"
   ]
  },
  {
   "cell_type": "code",
   "execution_count": 8,
   "metadata": {},
   "outputs": [
    {
     "data": {
      "text/plain": [
       "1.8565024365206941"
      ]
     },
     "execution_count": 8,
     "metadata": {},
     "output_type": "execute_result"
    }
   ],
   "source": [
    "# % of flights cancelled\n",
    "\n",
    "(dfr1b.count()/dfr1.count())*100"
   ]
  },
  {
   "cell_type": "code",
   "execution_count": 9,
   "metadata": {},
   "outputs": [
    {
     "name": "stdout",
     "output_type": "stream",
     "text": [
      "+------------------+--------------+\n",
      "|MKT_UNIQUE_CARRIER|sum(CANCELLED)|\n",
      "+------------------+--------------+\n",
      "|                AA|       12814.0|\n",
      "|                UA|       10021.0|\n",
      "|                WN|        5818.0|\n",
      "|                DL|        2559.0|\n",
      "|                AS|        1783.0|\n",
      "|                B6|        1208.0|\n",
      "|                F9|         334.0|\n",
      "|                NK|         327.0|\n",
      "|                G4|         142.0|\n",
      "|                HA|         116.0|\n",
      "+------------------+--------------+\n",
      "\n"
     ]
    }
   ],
   "source": [
    "#Carrier with most cancellations during Nov 2018 -  January 2019 period\n",
    "\n",
    "dfr1b.groupby('MKT_UNIQUE_CARRIER').sum('CANCELLED').orderBy('sum(CANCELLED)', ascending=False).show()"
   ]
  },
  {
   "cell_type": "code",
   "execution_count": 10,
   "metadata": {},
   "outputs": [
    {
     "name": "stdout",
     "output_type": "stream",
     "text": [
      "+---------+--------------+\n",
      "|  Weekday|sum(CANCELLED)|\n",
      "+---------+--------------+\n",
      "|   Sunday|        6638.0|\n",
      "| Thursday|        6576.0|\n",
      "|   Monday|        5882.0|\n",
      "|Wednesday|        5248.0|\n",
      "|  Tuesday|        4204.0|\n",
      "| Saturday|        3459.0|\n",
      "|   Friday|        3115.0|\n",
      "+---------+--------------+\n",
      "\n"
     ]
    }
   ],
   "source": [
    "# Weekday with most cancellations\n",
    "\n",
    "dfr2 = spark.sql(\"SELECT DAY_OF_WEEK, CANCELLED from Airline where CANCELLED =1\")\n",
    "\n",
    "t = {1:\"Monday\", 2: \"Tuesday\", 3:\"Wednesday\", 4: \"Thursday\", 5: \"Friday\", 6: \"Saturday\", 7: \"Sunday\"}\n",
    "\n",
    "conv = udf(lambda x: t[x], StringType())\n",
    "dfwd= dfr2.withColumn(\"Weekday\", conv(\"DAY_OF_WEEK\")).groupBy('Weekday').sum('CANCELLED').orderBy('sum(CANCELLED)', ascending=False).show()"
   ]
  },
  {
   "cell_type": "code",
   "execution_count": 11,
   "metadata": {},
   "outputs": [],
   "source": [
    "#Average delay of flights originating from Tampa, JFK, ORD, LAX\n",
    "\n",
    "dfrd = spark.sql(\"SELECT ORIGIN, DEP_DELAY, CANCELLED from Airline where (ORIGIN='TPA' or ORIGIN='ORD' or ORIGIN='JFK' or ORIGIN='LAX') and CANCELLED=0\")\n",
    "\n",
    "\n",
    "dfrd.groupBy('ORIGIN').avg('DEP_DELAY').orderBy('avg(DEP_DELAY)', ascending= False).show()"
   ]
  },
  {
   "cell_type": "code",
   "execution_count": 13,
   "metadata": {},
   "outputs": [
    {
     "name": "stdout",
     "output_type": "stream",
     "text": [
      "+-------+--------------+------------------+\n",
      "|  Route|sum(DEP_DEL15)|    avg(DEP_DELAY)|\n",
      "+-------+--------------+------------------+\n",
      "|LAX-SFO|        1131.0|16.849896241641687|\n",
      "|ORD-LGA|        1054.0|22.304322599361765|\n",
      "|SFO-LAX|        1014.0|14.687845303867404|\n",
      "|LGA-ORD|         830.0|20.165744247014274|\n",
      "|SEA-SFO|         703.0| 19.19063136456212|\n",
      "|SFO-SEA|         618.0| 17.84767393989296|\n",
      "|MCO-EWR|         600.0|26.888107791446984|\n",
      "|ATL-LGA|         590.0| 14.49507494646681|\n",
      "|BOS-LGA|         590.0|17.653333333333332|\n",
      "|LAS-SFO|         569.0| 17.59878726629611|\n",
      "+-------+--------------+------------------+\n",
      "only showing top 10 rows\n",
      "\n"
     ]
    }
   ],
   "source": [
    "# Origin city to Destination Delay\n",
    "dfrod= spark.sql(\"SELECT concat(ORIGIN,'-' ,DEST) as Route, DEP_DEL15, DEP_DELAY, CANCELLED from Airline where CANCELLED=0\")\n",
    "\n",
    "\n",
    "#Display route with most delays and avg delay\n",
    "dfrod.groupby('Route').agg({'DEP_DEL15': 'sum','DEP_DELAY': 'avg'}).orderBy('sum(DEP_DEL15)', ascending= False).show(10)"
   ]
  },
  {
   "cell_type": "code",
   "execution_count": 14,
   "metadata": {},
   "outputs": [
    {
     "name": "stdout",
     "output_type": "stream",
     "text": [
      "+---------------------+--------------+------------------+\n",
      "|Route                |sum(DEP_DEL15)|avg(DEP_DELAY)    |\n",
      "+---------------------+--------------+------------------+\n",
      "|California-California|12979.0       |10.397778512595442|\n",
      "|Texas-Texas          |7846.0        |7.04169676953246  |\n",
      "|Florida-New York     |3985.0        |15.34417568427753 |\n",
      "|New York-Florida     |3347.0        |12.900401452877079|\n",
      "|Texas-California     |3335.0        |9.647412619155697 |\n",
      "|California-Texas     |2837.0        |7.827079193868862 |\n",
      "|Nevada-California    |2822.0        |9.899078216076996 |\n",
      "|Georgia-Florida      |2609.0        |7.272832369942196 |\n",
      "|Arizona-California   |2534.0        |8.5738548273432   |\n",
      "|Florida-New Jersey   |2524.0        |23.343812127236582|\n",
      "+---------------------+--------------+------------------+\n",
      "only showing top 10 rows\n",
      "\n"
     ]
    }
   ],
   "source": [
    "# Origin State to Destination State route Delay\n",
    "dfsd= spark.sql(\"SELECT concat(ORIGIN_STATE_NM,'-' ,DEST_STATE_NM) as Route, DEP_DELAY, DEP_DEL15 , CANCELLED from Airline where Cancelled=0\")\n",
    "\n",
    "\n",
    "# Display \n",
    "dfsd.groupby('Route').agg({'DEP_DEL15': 'sum','DEP_DELAY': 'avg'}).orderBy('sum(DEP_DEL15)', ascending= False).show(10, truncate=False)"
   ]
  },
  {
   "cell_type": "code",
   "execution_count": null,
   "metadata": {},
   "outputs": [],
   "source": []
  },
  {
   "cell_type": "markdown",
   "metadata": {},
   "source": [
    "## <center><b>PREDICTION MODELING</b></center>"
   ]
  },
  {
   "cell_type": "markdown",
   "metadata": {},
   "source": [
    "### K_MEANS CLUSTERING"
   ]
  },
  {
   "cell_type": "code",
   "execution_count": 175,
   "metadata": {},
   "outputs": [],
   "source": [
    "from pyspark.ml.clustering import KMeans\n",
    "from pyspark.ml.evaluation import ClusteringEvaluator\n",
    "import pandas as pd\n",
    "\n",
    "#copy dataframe\n",
    "dataset = dfa"
   ]
  },
  {
   "cell_type": "code",
   "execution_count": null,
   "metadata": {},
   "outputs": [],
   "source": [
    "#Remove cancelled flights\n",
    "dataset = dataset.filter(\"CANCELLED = 0\")\n",
    "\n",
    "#Flights from Tampa\n",
    "df_TPA = dataset.filter(\"Origin = 'TPA'\")\n"
   ]
  },
  {
   "cell_type": "code",
   "execution_count": 187,
   "metadata": {},
   "outputs": [
    {
     "name": "stdout",
     "output_type": "stream",
     "text": [
      "+--------------------+-----+\n",
      "|            features|label|\n",
      "+--------------------+-----+\n",
      "|[4.0,820.0,951.0,...|  0.0|\n",
      "|[4.0,1658.0,1850....|  0.0|\n",
      "|[4.0,1245.0,1623....|  0.0|\n",
      "|[4.0,601.0,930.0,...|  0.0|\n",
      "|[4.0,2025.0,13.0,...|  0.0|\n",
      "|[4.0,1745.0,1925....|  0.0|\n",
      "|[4.0,1539.0,1718....|  0.0|\n",
      "|[4.0,2059.0,2238....|  1.0|\n",
      "|[4.0,600.0,735.0,...|  0.0|\n",
      "|[4.0,2059.0,2247....|  0.0|\n",
      "|[4.0,1255.0,1428....|  1.0|\n",
      "|[4.0,745.0,1008.0...|  0.0|\n",
      "|[4.0,1331.0,1505....|  1.0|\n",
      "|[4.0,1115.0,1259....|  0.0|\n",
      "|[4.0,1610.0,1705....|  0.0|\n",
      "|[4.0,1045.0,1246....|  1.0|\n",
      "|[4.0,1410.0,1559....|  0.0|\n",
      "|[4.0,1640.0,1854....|  0.0|\n",
      "|[4.0,620.0,802.0,...|  0.0|\n",
      "|[4.0,2010.0,2215....|  0.0|\n",
      "+--------------------+-----+\n",
      "only showing top 20 rows\n",
      "\n"
     ]
    }
   ],
   "source": [
    "# 'DAY_OF_WEEK', 'CRS_DEP_TIME', 'CRS_ARR_TIME', 'CRS_ELAPSED_TIME', 'DISTANCE', label= 'DEP_DEL15'\n",
    "\n",
    "dataset= dataset.rdd.map(lambda x:(Vectors.dense([float(x[2]),float(x[9]),float(x[12]),float(x[17]),float(x[21])]),x[11]))\n",
    "dataset= sqlContext.createDataFrame(dataset,[\"features\",\"label\"])\n",
    "dataset.show()"
   ]
  },
  {
   "cell_type": "code",
   "execution_count": 188,
   "metadata": {},
   "outputs": [],
   "source": [
    "# Trains a k-means model.\n",
    "kmeans = KMeans().setK(4).setSeed(1)\n",
    "model = kmeans.fit(dataset)"
   ]
  },
  {
   "cell_type": "code",
   "execution_count": 189,
   "metadata": {},
   "outputs": [],
   "source": [
    "# Make predictions\n",
    "predictions = model.transform(dataset)"
   ]
  },
  {
   "cell_type": "code",
   "execution_count": 190,
   "metadata": {},
   "outputs": [
    {
     "name": "stdout",
     "output_type": "stream",
     "text": [
      "Silhouette with squared euclidean distance = 0.6357182873415711\n"
     ]
    }
   ],
   "source": [
    "# Evaluate clustering by computing Silhouette score\n",
    "evaluator = ClusteringEvaluator()\n",
    "\n",
    "silhouette = evaluator.evaluate(predictions)\n",
    "print(\"Silhouette with squared euclidean distance = \" + str(silhouette))"
   ]
  },
  {
   "cell_type": "code",
   "execution_count": 194,
   "metadata": {},
   "outputs": [
    {
     "name": "stdout",
     "output_type": "stream",
     "text": [
      "Cluster Centers: \n",
      "[   3.94107326  906.86638784 1098.00522768  116.9379374   577.09201514]\n",
      "[   3.97168075 1732.24330896 1922.53409441  115.07701396  574.34404913]\n",
      "[   3.99435185 1226.45990707 1655.7066544   274.26100005 1869.99166419]\n",
      "[   4.0742433  2175.20419402  272.39557852  217.20295696 1563.81440172]\n"
     ]
    }
   ],
   "source": [
    "# Shows the result.\n",
    "centers = model.clusterCenters()\n",
    "print(\"Cluster Centers: \")\n",
    "for center in centers:\n",
    "    print(center)"
   ]
  },
  {
   "cell_type": "markdown",
   "metadata": {},
   "source": [
    "###### KMEANS <br> using code found on https://datascience.stackexchange.com/questions/16700/confused-about-how-to-apply-kmeans-on-my-a-dataset-with-features-extracted"
   ]
  },
  {
   "cell_type": "code",
   "execution_count": 200,
   "metadata": {},
   "outputs": [],
   "source": [
    "from scipy import stats\n",
    "from sklearn.cluster import KMeans\n",
    "import pandas as pd\n",
    "\n",
    "#copy dataframe\n",
    "df_tr = dfa\n",
    "df_tr= df_tr.toPandas()"
   ]
  },
  {
   "cell_type": "code",
   "execution_count": 201,
   "metadata": {},
   "outputs": [],
   "source": [
    "#Remove empty cancelled flights\n",
    "df_tr=df_tr.loc[df_tr['CANCELLED'] == 0]\n",
    "\n",
    "#Flights from Tampa\n",
    "df_TPA=df_tr.loc[df_tr['ORIGIN'] == 'TPA']"
   ]
  },
  {
   "cell_type": "code",
   "execution_count": 202,
   "metadata": {},
   "outputs": [
    {
     "data": {
      "text/html": [
       "<div>\n",
       "<style scoped>\n",
       "    .dataframe tbody tr th:only-of-type {\n",
       "        vertical-align: middle;\n",
       "    }\n",
       "\n",
       "    .dataframe tbody tr th {\n",
       "        vertical-align: top;\n",
       "    }\n",
       "\n",
       "    .dataframe thead th {\n",
       "        text-align: right;\n",
       "    }\n",
       "</style>\n",
       "<table border=\"1\" class=\"dataframe\">\n",
       "  <thead>\n",
       "    <tr style=\"text-align: right;\">\n",
       "      <th></th>\n",
       "      <th>MONTH</th>\n",
       "      <th>DAY_OF_MONTH</th>\n",
       "      <th>DAY_OF_WEEK</th>\n",
       "      <th>MKT_UNIQUE_CARRIER</th>\n",
       "      <th>OP_CARRIER_FL_NUM</th>\n",
       "      <th>ORIGIN</th>\n",
       "      <th>ORIGIN_STATE_NM</th>\n",
       "      <th>DEST</th>\n",
       "      <th>DEST_STATE_NM</th>\n",
       "      <th>CRS_DEP_TIME</th>\n",
       "      <th>...</th>\n",
       "      <th>ACTUAL_ELAPSED_TIME</th>\n",
       "      <th>AIR_TIME</th>\n",
       "      <th>FLIGHTS</th>\n",
       "      <th>DISTANCE</th>\n",
       "      <th>CARRIER_DELAY</th>\n",
       "      <th>WEATHER_DELAY</th>\n",
       "      <th>NAS_DELAY</th>\n",
       "      <th>SECURITY_DELAY</th>\n",
       "      <th>LATE_AIRCRAFT_DELAY</th>\n",
       "      <th>_c27</th>\n",
       "    </tr>\n",
       "  </thead>\n",
       "  <tbody>\n",
       "    <tr>\n",
       "      <th>4251</th>\n",
       "      <td>1</td>\n",
       "      <td>12</td>\n",
       "      <td>6</td>\n",
       "      <td>AS</td>\n",
       "      <td>523</td>\n",
       "      <td>TPA</td>\n",
       "      <td>Florida</td>\n",
       "      <td>SEA</td>\n",
       "      <td>Washington</td>\n",
       "      <td>1705</td>\n",
       "      <td>...</td>\n",
       "      <td>345.0</td>\n",
       "      <td>319.0</td>\n",
       "      <td>1.0</td>\n",
       "      <td>2520.0</td>\n",
       "      <td>NaN</td>\n",
       "      <td>NaN</td>\n",
       "      <td>NaN</td>\n",
       "      <td>NaN</td>\n",
       "      <td>NaN</td>\n",
       "      <td>None</td>\n",
       "    </tr>\n",
       "    <tr>\n",
       "      <th>4854</th>\n",
       "      <td>1</td>\n",
       "      <td>13</td>\n",
       "      <td>7</td>\n",
       "      <td>AS</td>\n",
       "      <td>523</td>\n",
       "      <td>TPA</td>\n",
       "      <td>Florida</td>\n",
       "      <td>SEA</td>\n",
       "      <td>Washington</td>\n",
       "      <td>1705</td>\n",
       "      <td>...</td>\n",
       "      <td>359.0</td>\n",
       "      <td>333.0</td>\n",
       "      <td>1.0</td>\n",
       "      <td>2520.0</td>\n",
       "      <td>NaN</td>\n",
       "      <td>NaN</td>\n",
       "      <td>NaN</td>\n",
       "      <td>NaN</td>\n",
       "      <td>NaN</td>\n",
       "      <td>None</td>\n",
       "    </tr>\n",
       "    <tr>\n",
       "      <th>5524</th>\n",
       "      <td>1</td>\n",
       "      <td>14</td>\n",
       "      <td>1</td>\n",
       "      <td>AS</td>\n",
       "      <td>523</td>\n",
       "      <td>TPA</td>\n",
       "      <td>Florida</td>\n",
       "      <td>SEA</td>\n",
       "      <td>Washington</td>\n",
       "      <td>1705</td>\n",
       "      <td>...</td>\n",
       "      <td>357.0</td>\n",
       "      <td>332.0</td>\n",
       "      <td>1.0</td>\n",
       "      <td>2520.0</td>\n",
       "      <td>NaN</td>\n",
       "      <td>NaN</td>\n",
       "      <td>NaN</td>\n",
       "      <td>NaN</td>\n",
       "      <td>NaN</td>\n",
       "      <td>None</td>\n",
       "    </tr>\n",
       "    <tr>\n",
       "      <th>6193</th>\n",
       "      <td>1</td>\n",
       "      <td>15</td>\n",
       "      <td>2</td>\n",
       "      <td>AS</td>\n",
       "      <td>523</td>\n",
       "      <td>TPA</td>\n",
       "      <td>Florida</td>\n",
       "      <td>SEA</td>\n",
       "      <td>Washington</td>\n",
       "      <td>1705</td>\n",
       "      <td>...</td>\n",
       "      <td>380.0</td>\n",
       "      <td>356.0</td>\n",
       "      <td>1.0</td>\n",
       "      <td>2520.0</td>\n",
       "      <td>NaN</td>\n",
       "      <td>NaN</td>\n",
       "      <td>NaN</td>\n",
       "      <td>NaN</td>\n",
       "      <td>NaN</td>\n",
       "      <td>None</td>\n",
       "    </tr>\n",
       "    <tr>\n",
       "      <th>6843</th>\n",
       "      <td>1</td>\n",
       "      <td>16</td>\n",
       "      <td>3</td>\n",
       "      <td>AS</td>\n",
       "      <td>523</td>\n",
       "      <td>TPA</td>\n",
       "      <td>Florida</td>\n",
       "      <td>SEA</td>\n",
       "      <td>Washington</td>\n",
       "      <td>1705</td>\n",
       "      <td>...</td>\n",
       "      <td>374.0</td>\n",
       "      <td>357.0</td>\n",
       "      <td>1.0</td>\n",
       "      <td>2520.0</td>\n",
       "      <td>NaN</td>\n",
       "      <td>NaN</td>\n",
       "      <td>NaN</td>\n",
       "      <td>NaN</td>\n",
       "      <td>NaN</td>\n",
       "      <td>None</td>\n",
       "    </tr>\n",
       "  </tbody>\n",
       "</table>\n",
       "<p>5 rows × 28 columns</p>\n",
       "</div>"
      ],
      "text/plain": [
       "      MONTH  DAY_OF_MONTH  DAY_OF_WEEK MKT_UNIQUE_CARRIER  OP_CARRIER_FL_NUM  \\\n",
       "4251      1            12            6                 AS                523   \n",
       "4854      1            13            7                 AS                523   \n",
       "5524      1            14            1                 AS                523   \n",
       "6193      1            15            2                 AS                523   \n",
       "6843      1            16            3                 AS                523   \n",
       "\n",
       "     ORIGIN ORIGIN_STATE_NM DEST DEST_STATE_NM  CRS_DEP_TIME  ...  \\\n",
       "4251    TPA         Florida  SEA    Washington          1705  ...   \n",
       "4854    TPA         Florida  SEA    Washington          1705  ...   \n",
       "5524    TPA         Florida  SEA    Washington          1705  ...   \n",
       "6193    TPA         Florida  SEA    Washington          1705  ...   \n",
       "6843    TPA         Florida  SEA    Washington          1705  ...   \n",
       "\n",
       "      ACTUAL_ELAPSED_TIME  AIR_TIME  FLIGHTS  DISTANCE  CARRIER_DELAY  \\\n",
       "4251                345.0     319.0      1.0    2520.0            NaN   \n",
       "4854                359.0     333.0      1.0    2520.0            NaN   \n",
       "5524                357.0     332.0      1.0    2520.0            NaN   \n",
       "6193                380.0     356.0      1.0    2520.0            NaN   \n",
       "6843                374.0     357.0      1.0    2520.0            NaN   \n",
       "\n",
       "     WEATHER_DELAY  NAS_DELAY  SECURITY_DELAY  LATE_AIRCRAFT_DELAY  _c27  \n",
       "4251           NaN        NaN             NaN                  NaN  None  \n",
       "4854           NaN        NaN             NaN                  NaN  None  \n",
       "5524           NaN        NaN             NaN                  NaN  None  \n",
       "6193           NaN        NaN             NaN                  NaN  None  \n",
       "6843           NaN        NaN             NaN                  NaN  None  \n",
       "\n",
       "[5 rows x 28 columns]"
      ]
     },
     "execution_count": 202,
     "metadata": {},
     "output_type": "execute_result"
    }
   ],
   "source": [
    "df_TPA.head()"
   ]
  },
  {
   "cell_type": "code",
   "execution_count": 203,
   "metadata": {},
   "outputs": [
    {
     "name": "stdout",
     "output_type": "stream",
     "text": [
      "[[ 0.99918605  0.85682409  1.11546914 ...  3.86347297 -0.3800056\n",
      "  -0.48745897]\n",
      " [ 1.50218588  0.85682409  1.11546914 ...  3.86347297 -0.45183563\n",
      "  -0.48745897]\n",
      " [-1.51581314  0.85682409  1.11546914 ...  3.86347297 -0.49972232\n",
      "  -0.48745897]\n",
      " ...\n",
      " [ 0.99918605 -0.32904708 -0.36898519 ... -0.27630113 -0.40394894\n",
      "  -0.48745897]\n",
      " [ 0.99918605 -0.32904708 -0.36898519 ... -0.27630113 -0.3800056\n",
      "  -0.48745897]\n",
      " [ 0.99918605 -0.32904708 -0.36898519 ... -0.27630113 -0.06874211\n",
      "  -0.48745897]]\n"
     ]
    }
   ],
   "source": [
    "#Standardize columns for predictions\n",
    "clmns = ['DAY_OF_WEEK', 'CRS_DEP_TIME', 'CRS_ARR_TIME', 'CRS_ELAPSED_TIME', 'DEP_DELAY','DEP_DELAY','DEP_DEL15']\n",
    "df_tr_std = stats.zscore(df_TPA[clmns])\n",
    "print(df_tr_std)"
   ]
  },
  {
   "cell_type": "code",
   "execution_count": null,
   "metadata": {},
   "outputs": [],
   "source": [
    "#Cluster the data\n",
    "kmeans = KMeans(n_clusters=4, random_state=0).fit(df_tr_std)\n",
    "labels = kmeans.labels_\n",
    "\n",
    "#Glue back to originaal data\n",
    "df_TPA['clusters'] = labels\n",
    "\n",
    "#Add the column into our list\n",
    "clmns.extend(['clusters'])"
   ]
  },
  {
   "cell_type": "code",
   "execution_count": 205,
   "metadata": {},
   "outputs": [
    {
     "name": "stdout",
     "output_type": "stream",
     "text": [
      "          DAY_OF_WEEK  CRS_DEP_TIME  CRS_ARR_TIME  CRS_ELAPSED_TIME  \\\n",
      "clusters                                                              \n",
      "0            4.023212   1155.741531   1392.138645        295.707026   \n",
      "1            3.946885    915.208559   1084.253115        134.912398   \n",
      "2            4.025211   1701.900384   1907.235511        140.145273   \n",
      "3            4.138107   1533.483944   1706.805911        144.899119   \n",
      "\n",
      "             DISTANCE  DEP_DELAY  DEP_DEL15  \n",
      "clusters                                     \n",
      "0         1903.638018   2.763488   0.112296  \n",
      "1          786.110258  -2.689994   0.007300  \n",
      "2          818.837048  -1.827978   0.000000  \n",
      "3          867.368286  63.076158   1.000000  \n"
     ]
    }
   ],
   "source": [
    "#Lets analyze the clusters\n",
    "print(df_TPA[clmns].groupby(['clusters']).mean())"
   ]
  },
  {
   "cell_type": "code",
   "execution_count": 206,
   "metadata": {},
   "outputs": [],
   "source": [
    "import matplotlib.pyplot as plt\n",
    "import seaborn as sns"
   ]
  },
  {
   "cell_type": "code",
   "execution_count": 264,
   "metadata": {},
   "outputs": [
    {
     "data": {
      "text/plain": [
       "(0, 2658.3827327604176)"
      ]
     },
     "execution_count": 264,
     "metadata": {},
     "output_type": "execute_result"
    },
    {
     "data": {
      "image/png": "[encoded data removed]",
      "text/plain": [
       "<Figure size 479.375x432 with 1 Axes>"
      ]
     },
     "metadata": {
      "needs_background": "light"
     },
     "output_type": "display_data"
    }
   ],
   "source": [
    "#Scatter plot of Departure delay and Arrival Delay leaving from Tampa airport\n",
    "sns.lmplot('DISTANCE', 'DEP_DELAY', \n",
    "           data=df_TPA, \n",
    "           fit_reg=False, \n",
    "           hue='clusters', height = 6)\n",
    "plt.title('Clusters DISTANCE vs DEPARTURE DELAY')\n",
    "plt.xlabel('DEP_DELA')\n",
    "plt.ylabel('DEP_DELAY')\n",
    "\n",
    "plt.ylim(-20, None)\n",
    "plt.xlim(0, None)\n"
   ]
  },
  {
   "cell_type": "markdown",
   "metadata": {},
   "source": [
    "### <b>DECISION TREE CLASSIFIER MODEL</b>"
   ]
  },
  {
   "cell_type": "markdown",
   "metadata": {},
   "source": [
    "Code used can be found on https://spark.apache.org/docs/latest/ml-guide.html"
   ]
  },
  {
   "cell_type": "code",
   "execution_count": 54,
   "metadata": {},
   "outputs": [],
   "source": [
    "from pyspark.ml import Pipeline\n",
    "from pyspark.ml.classification import DecisionTreeClassifier\n",
    "from pyspark.ml.feature import StringIndexer, VectorIndexer\n",
    "from pyspark.ml.evaluation import MulticlassClassificationEvaluator\n",
    "from pyspark.ml.linalg import Vectors\n",
    "from pyspark.sql.functions import col"
   ]
  },
  {
   "cell_type": "code",
   "execution_count": 55,
   "metadata": {},
   "outputs": [],
   "source": [
    "#parse columns for classification(datac) reason for cancellation & Regression(datar) for cancelled flights\n",
    "\n",
    "datar = data.rdd.map(lambda x: ((x[14]), Vectors.dense(float(x[2]),float(x[4]),float(x[9]),float(x[12]),float(x[21]))))\n",
    "datac = data.rdd.map(lambda x: ((x[15]), Vectors.dense(float(x[2]),float(x[4]),float(x[9]),float(x[12]),float(x[21]))))"
   ]
  },
  {
   "cell_type": "code",
   "execution_count": null,
   "metadata": {},
   "outputs": [],
   "source": []
  },
  {
   "cell_type": "code",
   "execution_count": 56,
   "metadata": {},
   "outputs": [],
   "source": [
    "# create dataframe for classification(datap) & Regression(datapr)\n",
    "\n",
    "datap = sqlContext.createDataFrame(datac, ['label','features'],samplingRatio=0.2)\n",
    "datapr = sqlContext.createDataFrame(datar, ['label','features'],samplingRatio=0.2)"
   ]
  },
  {
   "cell_type": "code",
   "execution_count": 57,
   "metadata": {},
   "outputs": [
    {
     "data": {
      "text/plain": [
       "DataFrame[label: string, features: vector]"
      ]
     },
     "execution_count": 57,
     "metadata": {},
     "output_type": "execute_result"
    }
   ],
   "source": [
    "datap"
   ]
  },
  {
   "cell_type": "code",
   "execution_count": 58,
   "metadata": {},
   "outputs": [],
   "source": [
    "#Filter out null values\n",
    "\n",
    "dfapp1=datap.filter(\"label is not null\")\n",
    "dfapp2=datapr.filter(\"label is not null\")"
   ]
  },
  {
   "cell_type": "code",
   "execution_count": 59,
   "metadata": {},
   "outputs": [],
   "source": [
    "# Index labels, adding metadata to the label column.\n",
    "# Fit on whole dataset to include all labels in index.\n",
    "labelIndexer = StringIndexer(inputCol=\"label\", outputCol=\"indexedLabel\", handleInvalid=\"skip\").fit(dfapp1)"
   ]
  },
  {
   "cell_type": "code",
   "execution_count": 60,
   "metadata": {},
   "outputs": [],
   "source": [
    "# Automatically identify categorical features, and index them.\n",
    "# We specify maxCategories so features with > 4 distinct values are treated as continuous.\n",
    "featureIndexer =\\\n",
    "    VectorIndexer(inputCol=\"features\", outputCol=\"indexedFeatures\", maxCategories=4).fit(dfapp1)"
   ]
  },
  {
   "cell_type": "code",
   "execution_count": 61,
   "metadata": {},
   "outputs": [],
   "source": [
    "# Split the data into training and test sets (30% held out for testing)\n",
    "(trainingData, testData) = dfapp1.randomSplit([0.7, 0.3])"
   ]
  },
  {
   "cell_type": "code",
   "execution_count": 62,
   "metadata": {},
   "outputs": [],
   "source": [
    "# Train a DecisionTree model.\n",
    "dt = DecisionTreeClassifier(labelCol=\"indexedLabel\", featuresCol=\"indexedFeatures\")"
   ]
  },
  {
   "cell_type": "code",
   "execution_count": 63,
   "metadata": {},
   "outputs": [],
   "source": [
    "# Chain indexers and tree in a Pipeline\n",
    "pipeline = Pipeline(stages=[labelIndexer, featureIndexer, dt])"
   ]
  },
  {
   "cell_type": "code",
   "execution_count": 64,
   "metadata": {},
   "outputs": [],
   "source": [
    "# Train model.  This also runs the indexers.\n",
    "model = pipeline.fit(trainingData)"
   ]
  },
  {
   "cell_type": "code",
   "execution_count": 65,
   "metadata": {},
   "outputs": [],
   "source": [
    "# Make predictions.\n",
    "predictions = model.transform(testData)"
   ]
  },
  {
   "cell_type": "code",
   "execution_count": 66,
   "metadata": {},
   "outputs": [
    {
     "name": "stdout",
     "output_type": "stream",
     "text": [
      "+----------+------------+-----+\n",
      "|prediction|indexedLabel|label|\n",
      "+----------+------------+-----+\n",
      "|       0.0|         2.0|    A|\n",
      "|       0.0|         2.0|    A|\n",
      "|       0.0|         2.0|    A|\n",
      "|       0.0|         2.0|    A|\n",
      "|       0.0|         2.0|    A|\n",
      "|       0.0|         2.0|    A|\n",
      "|       0.0|         2.0|    A|\n",
      "|       0.0|         2.0|    A|\n",
      "|       0.0|         2.0|    A|\n",
      "|       0.0|         2.0|    A|\n",
      "+----------+------------+-----+\n",
      "only showing top 10 rows\n",
      "\n"
     ]
    }
   ],
   "source": [
    "# Select example rows to display.\n",
    "predictions.select(\"prediction\", \"indexedLabel\", \"label\").show(10)"
   ]
  },
  {
   "cell_type": "code",
   "execution_count": 67,
   "metadata": {},
   "outputs": [
    {
     "name": "stdout",
     "output_type": "stream",
     "text": [
      "Test Error = 0.313273 \n"
     ]
    }
   ],
   "source": [
    "# Select (prediction, true label) and compute test error\n",
    "evaluator = MulticlassClassificationEvaluator(\n",
    "    labelCol=\"indexedLabel\", predictionCol=\"prediction\", metricName=\"accuracy\")\n",
    "accuracy = evaluator.evaluate(predictions)\n",
    "print(\"Test Error = %g \" % (1.0 - accuracy))"
   ]
  },
  {
   "cell_type": "code",
   "execution_count": 68,
   "metadata": {},
   "outputs": [],
   "source": [
    "treeModel = model.stages[2]"
   ]
  },
  {
   "cell_type": "code",
   "execution_count": 69,
   "metadata": {},
   "outputs": [
    {
     "name": "stdout",
     "output_type": "stream",
     "text": [
      "DecisionTreeClassificationModel (uid=DecisionTreeClassifier_e46396361599) of depth 5 with 17 nodes\n"
     ]
    }
   ],
   "source": [
    "# summary only\n",
    "print(treeModel)"
   ]
  },
  {
   "cell_type": "markdown",
   "metadata": {},
   "source": [
    "## RANDOM FOREST Classification"
   ]
  },
  {
   "cell_type": "code",
   "execution_count": 100,
   "metadata": {},
   "outputs": [],
   "source": [
    "from pyspark.ml.classification import RandomForestClassifier\n",
    "from pyspark.ml.feature import IndexToString\n",
    "\n",
    "# Train a RandomForest model.\n",
    "rf = RandomForestClassifier(labelCol=\"indexedLabel\", featuresCol=\"indexedFeatures\", numTrees=10)"
   ]
  },
  {
   "cell_type": "code",
   "execution_count": 101,
   "metadata": {},
   "outputs": [],
   "source": [
    "# Convert indexed labels back to original labels.\n",
    "labelConverter = IndexToString(inputCol=\"prediction\", outputCol=\"predictedLabel\",\n",
    "                               labels=labelIndexer.labels)"
   ]
  },
  {
   "cell_type": "code",
   "execution_count": 102,
   "metadata": {},
   "outputs": [],
   "source": [
    "# Chain indexers and forest in a Pipeline\n",
    "pipeline = Pipeline(stages=[labelIndexer, featureIndexer, rf, labelConverter])"
   ]
  },
  {
   "cell_type": "code",
   "execution_count": 103,
   "metadata": {},
   "outputs": [],
   "source": [
    "# Train model.  This also runs the indexers.\n",
    "model = pipeline.fit(trainingData)"
   ]
  },
  {
   "cell_type": "code",
   "execution_count": 104,
   "metadata": {},
   "outputs": [],
   "source": [
    "# Make predictions.\n",
    "predictions = model.transform(testData)"
   ]
  },
  {
   "cell_type": "code",
   "execution_count": 105,
   "metadata": {},
   "outputs": [
    {
     "name": "stdout",
     "output_type": "stream",
     "text": [
      "+--------------+-----+--------------------+\n",
      "|predictedLabel|label|            features|\n",
      "+--------------+-----+--------------------+\n",
      "|             B|    A|[1.0,36.0,1500.0,...|\n",
      "|             B|    A|[1.0,37.0,1530.0,...|\n",
      "|             B|    A|[1.0,41.0,1630.0,...|\n",
      "|             B|    A|[1.0,124.0,1745.0...|\n",
      "|             B|    A|[1.0,142.0,2030.0...|\n",
      "+--------------+-----+--------------------+\n",
      "only showing top 5 rows\n",
      "\n"
     ]
    }
   ],
   "source": [
    "# Select example rows to display.\n",
    "predictions.select(\"predictedLabel\", \"label\", \"features\").show(5)"
   ]
  },
  {
   "cell_type": "code",
   "execution_count": 106,
   "metadata": {},
   "outputs": [
    {
     "name": "stdout",
     "output_type": "stream",
     "text": [
      "Test Error = 0.315573\n"
     ]
    }
   ],
   "source": [
    "# Select (prediction, true label) and compute test error\n",
    "evaluator = MulticlassClassificationEvaluator(\n",
    "    labelCol=\"indexedLabel\", predictionCol=\"prediction\", metricName=\"accuracy\")\n",
    "accuracy = evaluator.evaluate(predictions)\n",
    "print(\"Test Error = %g\" % (1.0 - accuracy))"
   ]
  },
  {
   "cell_type": "code",
   "execution_count": 107,
   "metadata": {},
   "outputs": [
    {
     "name": "stdout",
     "output_type": "stream",
     "text": [
      "RandomForestClassificationModel (uid=RandomForestClassifier_ab48084be71c) with 10 trees\n"
     ]
    }
   ],
   "source": [
    "rfModel = model.stages[2]\n",
    "print(rfModel)  # summary only"
   ]
  },
  {
   "cell_type": "markdown",
   "metadata": {},
   "source": [
    "## RANDOM FOREST Regression"
   ]
  },
  {
   "cell_type": "code",
   "execution_count": 108,
   "metadata": {},
   "outputs": [],
   "source": [
    "from pyspark.ml.regression import RandomForestRegressor\n",
    "from pyspark.ml.evaluation import RegressionEvaluator\n"
   ]
  },
  {
   "cell_type": "code",
   "execution_count": 109,
   "metadata": {},
   "outputs": [],
   "source": [
    "# Automatically identify categorical features, and index them.\n",
    "# Set maxCategories so features with > 4 distinct values are treated as continuous.\n",
    "featureIndexer =\\\n",
    "    VectorIndexer(inputCol=\"features\", outputCol=\"indexedFeatures\", maxCategories=4,handleInvalid='skip').fit(dfapp2)"
   ]
  },
  {
   "cell_type": "code",
   "execution_count": 110,
   "metadata": {},
   "outputs": [],
   "source": [
    "# Split the data into training and test sets (30% held out for testing)\n",
    "(trainingData, testData) = dfapp2.randomSplit([0.7, 0.3])"
   ]
  },
  {
   "cell_type": "code",
   "execution_count": 111,
   "metadata": {},
   "outputs": [],
   "source": [
    "# Train a RandomForest model.\n",
    "rf = RandomForestRegressor(featuresCol=\"indexedFeatures\")"
   ]
  },
  {
   "cell_type": "code",
   "execution_count": 112,
   "metadata": {},
   "outputs": [],
   "source": [
    "# Chain indexer and forest in a Pipeline\n",
    "pipeline = Pipeline(stages=[featureIndexer, rf])"
   ]
  },
  {
   "cell_type": "code",
   "execution_count": 113,
   "metadata": {},
   "outputs": [],
   "source": [
    "# Train model.  This also runs the indexer.\n",
    "model = pipeline.fit(trainingData)"
   ]
  },
  {
   "cell_type": "code",
   "execution_count": 114,
   "metadata": {},
   "outputs": [],
   "source": [
    "# Make predictions.\n",
    "predictions = model.transform(testData)"
   ]
  },
  {
   "cell_type": "code",
   "execution_count": 115,
   "metadata": {},
   "outputs": [
    {
     "name": "stdout",
     "output_type": "stream",
     "text": [
      "+--------------------+--------------------+-----+\n",
      "|          prediction|            features|label|\n",
      "+--------------------+--------------------+-----+\n",
      "|0.019816210663356395|[1.0,1.0,700.0,81...|  0.0|\n",
      "|0.004842800039435017|[1.0,1.0,700.0,11...|  0.0|\n",
      "|0.019113037050858046|[1.0,1.0,845.0,95...|  0.0|\n",
      "|0.005167497678158669|[1.0,2.0,1400.0,2...|  0.0|\n",
      "|0.005167497678158669|[1.0,2.0,1400.0,2...|  0.0|\n",
      "+--------------------+--------------------+-----+\n",
      "only showing top 5 rows\n",
      "\n"
     ]
    }
   ],
   "source": [
    "# Select example rows to display.\n",
    "predictions.select(\"prediction\", \"features\", \"label\").show(5)"
   ]
  },
  {
   "cell_type": "code",
   "execution_count": 116,
   "metadata": {},
   "outputs": [
    {
     "name": "stdout",
     "output_type": "stream",
     "text": [
      "Root Mean Squared Error (RMSE) on test data = 0.133759\n"
     ]
    }
   ],
   "source": [
    "# Select (prediction, true label) and compute test error\n",
    "evaluator = RegressionEvaluator(\n",
    "    labelCol=\"label\", predictionCol=\"prediction\", metricName=\"rmse\")\n",
    "rmse = evaluator.evaluate(predictions)\n",
    "print(\"Root Mean Squared Error (RMSE) on test data = %g\" % rmse)"
   ]
  },
  {
   "cell_type": "code",
   "execution_count": 117,
   "metadata": {},
   "outputs": [
    {
     "name": "stdout",
     "output_type": "stream",
     "text": [
      "RandomForestRegressionModel (uid=RandomForestRegressor_27c53718ee78) with 20 trees\n"
     ]
    }
   ],
   "source": [
    "rfModel = model.stages[1]\n",
    "print(rfModel)  # summary only"
   ]
  },
  {
   "cell_type": "markdown",
   "metadata": {},
   "source": [
    "## GRADIENT BOOSTED-TREE (Regression)"
   ]
  },
  {
   "cell_type": "code",
   "execution_count": 118,
   "metadata": {},
   "outputs": [],
   "source": [
    "from pyspark.ml.regression import GBTRegressor"
   ]
  },
  {
   "cell_type": "code",
   "execution_count": 119,
   "metadata": {},
   "outputs": [],
   "source": [
    "featureIndexer =\\\n",
    "    VectorIndexer(inputCol=\"features\", outputCol=\"indexedFeatures\", maxCategories=4).fit(dfapp2)"
   ]
  },
  {
   "cell_type": "code",
   "execution_count": 120,
   "metadata": {},
   "outputs": [],
   "source": [
    "# Split the data into training and test sets (30% held out for testing)\n",
    "(trainingData, testData) = dfapp2.randomSplit([0.7, 0.3])"
   ]
  },
  {
   "cell_type": "code",
   "execution_count": 121,
   "metadata": {},
   "outputs": [],
   "source": [
    "# Train a GBT model.\n",
    "gbt = GBTRegressor(featuresCol=\"indexedFeatures\", maxIter=10)"
   ]
  },
  {
   "cell_type": "code",
   "execution_count": 122,
   "metadata": {},
   "outputs": [],
   "source": [
    "# Chain indexer and GBT in a Pipeline\n",
    "pipeline = Pipeline(stages=[featureIndexer, gbt])"
   ]
  },
  {
   "cell_type": "code",
   "execution_count": 123,
   "metadata": {},
   "outputs": [],
   "source": [
    "# Train model.  This also runs the indexer.\n",
    "model = pipeline.fit(trainingData)"
   ]
  },
  {
   "cell_type": "code",
   "execution_count": 124,
   "metadata": {},
   "outputs": [],
   "source": [
    "# Make predictions.\n",
    "predictions = model.transform(testData)"
   ]
  },
  {
   "cell_type": "code",
   "execution_count": 125,
   "metadata": {},
   "outputs": [
    {
     "name": "stdout",
     "output_type": "stream",
     "text": [
      "+--------------------+-----+--------------------+\n",
      "|          prediction|label|            features|\n",
      "+--------------------+-----+--------------------+\n",
      "| 0.02011533181289338|  0.0|[1.0,1.0,700.0,81...|\n",
      "| 0.02011533181289338|  0.0|[1.0,1.0,700.0,81...|\n",
      "|0.005449802528100375|  0.0|[1.0,1.0,700.0,11...|\n",
      "|0.002824482677950955|  0.0|[1.0,1.0,800.0,11...|\n",
      "|0.002824482677950955|  0.0|[1.0,1.0,800.0,11...|\n",
      "+--------------------+-----+--------------------+\n",
      "only showing top 5 rows\n",
      "\n"
     ]
    }
   ],
   "source": [
    "# Select example rows to display.\n",
    "predictions.select(\"prediction\", \"label\", \"features\").show(5)"
   ]
  },
  {
   "cell_type": "code",
   "execution_count": 126,
   "metadata": {},
   "outputs": [
    {
     "name": "stdout",
     "output_type": "stream",
     "text": [
      "Root Mean Squared Error (RMSE) on test data = 0.133617\n"
     ]
    }
   ],
   "source": [
    "# Select (prediction, true label) and compute test error\n",
    "evaluator = RegressionEvaluator(\n",
    "    labelCol=\"label\", predictionCol=\"prediction\", metricName=\"rmse\")\n",
    "rmse = evaluator.evaluate(predictions)\n",
    "print(\"Root Mean Squared Error (RMSE) on test data = %g\" % rmse)"
   ]
  },
  {
   "cell_type": "code",
   "execution_count": 127,
   "metadata": {},
   "outputs": [
    {
     "name": "stdout",
     "output_type": "stream",
     "text": [
      "GBTRegressionModel (uid=GBTRegressor_eeb37bef3270) with 10 trees\n"
     ]
    }
   ],
   "source": [
    "gbtModel = model.stages[1]\n",
    "print(gbtModel)  # summary only"
   ]
  }
 ],
 "metadata": {
  "kernelspec": {
   "display_name": "Python 3",
   "language": "python",
   "name": "python3"
  },
  "language_info": {
   "codemirror_mode": {
    "name": "ipython",
    "version": 3
   },
   "file_extension": ".py",
   "mimetype": "text/x-python",
   "name": "python",
   "nbconvert_exporter": "python",
   "pygments_lexer": "ipython3",
   "version": "3.7.3"
  }
 },
 "nbformat": 4,
 "nbformat_minor": 2
}

